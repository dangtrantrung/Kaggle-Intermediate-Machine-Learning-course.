{
 "cells": [
  {
   "cell_type": "markdown",
   "id": "8bf246bf",
   "metadata": {
    "papermill": {
     "duration": 0.013405,
     "end_time": "2024-02-27T09:35:16.773100",
     "exception": false,
     "start_time": "2024-02-27T09:35:16.759695",
     "status": "completed"
    },
    "tags": []
   },
   "source": [
    "**This notebook is an exercise in the [Intermediate Machine Learning](https://www.kaggle.com/learn/intermediate-machine-learning) course.  You can reference the tutorial at [this link](https://www.kaggle.com/alexisbcook/categorical-variables).**\n",
    "\n",
    "---\n"
   ]
  },
  {
   "cell_type": "markdown",
   "id": "6f08edc0",
   "metadata": {
    "papermill": {
     "duration": 0.012682,
     "end_time": "2024-02-27T09:35:16.798980",
     "exception": false,
     "start_time": "2024-02-27T09:35:16.786298",
     "status": "completed"
    },
    "tags": []
   },
   "source": [
    "By encoding **categorical variables**, you'll obtain your best results thus far!\n",
    "\n",
    "# Setup\n",
    "\n",
    "The questions below will give you feedback on your work. Run the following cell to set up the feedback system."
   ]
  },
  {
   "cell_type": "code",
   "execution_count": 1,
   "id": "602de2c1",
   "metadata": {
    "execution": {
     "iopub.execute_input": "2024-02-27T09:35:16.827345Z",
     "iopub.status.busy": "2024-02-27T09:35:16.826928Z",
     "iopub.status.idle": "2024-02-27T09:35:17.981876Z",
     "shell.execute_reply": "2024-02-27T09:35:17.980311Z"
    },
    "papermill": {
     "duration": 1.172833,
     "end_time": "2024-02-27T09:35:17.984857",
     "exception": false,
     "start_time": "2024-02-27T09:35:16.812024",
     "status": "completed"
    },
    "tags": []
   },
   "outputs": [
    {
     "name": "stdout",
     "output_type": "stream",
     "text": [
      "Setup Complete\n"
     ]
    }
   ],
   "source": [
    "# Set up code checking\n",
    "import os\n",
    "if not os.path.exists(\"../input/train.csv\"):\n",
    "    os.symlink(\"../input/home-data-for-ml-course/train.csv\", \"../input/train.csv\")  \n",
    "    os.symlink(\"../input/home-data-for-ml-course/test.csv\", \"../input/test.csv\") \n",
    "from learntools.core import binder\n",
    "binder.bind(globals())\n",
    "from learntools.ml_intermediate.ex3 import *\n",
    "print(\"Setup Complete\")"
   ]
  },
  {
   "cell_type": "markdown",
   "id": "03f71f60",
   "metadata": {
    "papermill": {
     "duration": 0.013812,
     "end_time": "2024-02-27T09:35:18.011913",
     "exception": false,
     "start_time": "2024-02-27T09:35:17.998101",
     "status": "completed"
    },
    "tags": []
   },
   "source": [
    "In this exercise, you will work with data from the [Housing Prices Competition for Kaggle Learn Users](https://www.kaggle.com/c/home-data-for-ml-course). \n",
    "\n",
    "![Ames Housing dataset image](https://storage.googleapis.com/kaggle-media/learn/images/lTJVG4e.png)\n",
    "\n",
    "Run the next code cell without changes to load the training and validation sets in `X_train`, `X_valid`, `y_train`, and `y_valid`.  The test set is loaded in `X_test`."
   ]
  },
  {
   "cell_type": "code",
   "execution_count": 2,
   "id": "c42c867f",
   "metadata": {
    "execution": {
     "iopub.execute_input": "2024-02-27T09:35:18.041253Z",
     "iopub.status.busy": "2024-02-27T09:35:18.040720Z",
     "iopub.status.idle": "2024-02-27T09:35:19.904987Z",
     "shell.execute_reply": "2024-02-27T09:35:19.903516Z"
    },
    "papermill": {
     "duration": 1.883149,
     "end_time": "2024-02-27T09:35:19.908251",
     "exception": false,
     "start_time": "2024-02-27T09:35:18.025102",
     "status": "completed"
    },
    "tags": []
   },
   "outputs": [],
   "source": [
    "import pandas as pd\n",
    "from sklearn.model_selection import train_test_split\n",
    "\n",
    "# Read the data\n",
    "X = pd.read_csv('../input/train.csv', index_col='Id') \n",
    "X_test = pd.read_csv('../input/test.csv', index_col='Id')\n",
    "\n",
    "# Remove rows with missing target, separate target from predictors\n",
    "X.dropna(axis=0, subset=['SalePrice'], inplace=True)\n",
    "y = X.SalePrice\n",
    "X.drop(['SalePrice'], axis=1, inplace=True)\n",
    "\n",
    "# To keep things simple, we'll drop columns with missing values\n",
    "cols_with_missing = [col for col in X.columns if X[col].isnull().any()] \n",
    "X.drop(cols_with_missing, axis=1, inplace=True)\n",
    "X_test.drop(cols_with_missing, axis=1, inplace=True)\n",
    "\n",
    "# Break off validation set from training data\n",
    "X_train, X_valid, y_train, y_valid = train_test_split(X, y,\n",
    "                                                      train_size=0.8, test_size=0.2,\n",
    "                                                      random_state=0)"
   ]
  },
  {
   "cell_type": "markdown",
   "id": "019f3abd",
   "metadata": {
    "papermill": {
     "duration": 0.012724,
     "end_time": "2024-02-27T09:35:19.934225",
     "exception": false,
     "start_time": "2024-02-27T09:35:19.921501",
     "status": "completed"
    },
    "tags": []
   },
   "source": [
    "Use the next code cell to print the first five rows of the data."
   ]
  },
  {
   "cell_type": "code",
   "execution_count": 3,
   "id": "8f8376dd",
   "metadata": {
    "execution": {
     "iopub.execute_input": "2024-02-27T09:35:19.963016Z",
     "iopub.status.busy": "2024-02-27T09:35:19.962572Z",
     "iopub.status.idle": "2024-02-27T09:35:19.992311Z",
     "shell.execute_reply": "2024-02-27T09:35:19.990788Z"
    },
    "papermill": {
     "duration": 0.047835,
     "end_time": "2024-02-27T09:35:19.995199",
     "exception": false,
     "start_time": "2024-02-27T09:35:19.947364",
     "status": "completed"
    },
    "tags": []
   },
   "outputs": [
    {
     "data": {
      "text/html": [
       "<div>\n",
       "<style scoped>\n",
       "    .dataframe tbody tr th:only-of-type {\n",
       "        vertical-align: middle;\n",
       "    }\n",
       "\n",
       "    .dataframe tbody tr th {\n",
       "        vertical-align: top;\n",
       "    }\n",
       "\n",
       "    .dataframe thead th {\n",
       "        text-align: right;\n",
       "    }\n",
       "</style>\n",
       "<table border=\"1\" class=\"dataframe\">\n",
       "  <thead>\n",
       "    <tr style=\"text-align: right;\">\n",
       "      <th></th>\n",
       "      <th>MSSubClass</th>\n",
       "      <th>MSZoning</th>\n",
       "      <th>LotArea</th>\n",
       "      <th>Street</th>\n",
       "      <th>LotShape</th>\n",
       "      <th>LandContour</th>\n",
       "      <th>Utilities</th>\n",
       "      <th>LotConfig</th>\n",
       "      <th>LandSlope</th>\n",
       "      <th>Neighborhood</th>\n",
       "      <th>...</th>\n",
       "      <th>OpenPorchSF</th>\n",
       "      <th>EnclosedPorch</th>\n",
       "      <th>3SsnPorch</th>\n",
       "      <th>ScreenPorch</th>\n",
       "      <th>PoolArea</th>\n",
       "      <th>MiscVal</th>\n",
       "      <th>MoSold</th>\n",
       "      <th>YrSold</th>\n",
       "      <th>SaleType</th>\n",
       "      <th>SaleCondition</th>\n",
       "    </tr>\n",
       "    <tr>\n",
       "      <th>Id</th>\n",
       "      <th></th>\n",
       "      <th></th>\n",
       "      <th></th>\n",
       "      <th></th>\n",
       "      <th></th>\n",
       "      <th></th>\n",
       "      <th></th>\n",
       "      <th></th>\n",
       "      <th></th>\n",
       "      <th></th>\n",
       "      <th></th>\n",
       "      <th></th>\n",
       "      <th></th>\n",
       "      <th></th>\n",
       "      <th></th>\n",
       "      <th></th>\n",
       "      <th></th>\n",
       "      <th></th>\n",
       "      <th></th>\n",
       "      <th></th>\n",
       "      <th></th>\n",
       "    </tr>\n",
       "  </thead>\n",
       "  <tbody>\n",
       "    <tr>\n",
       "      <th>619</th>\n",
       "      <td>20</td>\n",
       "      <td>RL</td>\n",
       "      <td>11694</td>\n",
       "      <td>Pave</td>\n",
       "      <td>Reg</td>\n",
       "      <td>Lvl</td>\n",
       "      <td>AllPub</td>\n",
       "      <td>Inside</td>\n",
       "      <td>Gtl</td>\n",
       "      <td>NridgHt</td>\n",
       "      <td>...</td>\n",
       "      <td>108</td>\n",
       "      <td>0</td>\n",
       "      <td>0</td>\n",
       "      <td>260</td>\n",
       "      <td>0</td>\n",
       "      <td>0</td>\n",
       "      <td>7</td>\n",
       "      <td>2007</td>\n",
       "      <td>New</td>\n",
       "      <td>Partial</td>\n",
       "    </tr>\n",
       "    <tr>\n",
       "      <th>871</th>\n",
       "      <td>20</td>\n",
       "      <td>RL</td>\n",
       "      <td>6600</td>\n",
       "      <td>Pave</td>\n",
       "      <td>Reg</td>\n",
       "      <td>Lvl</td>\n",
       "      <td>AllPub</td>\n",
       "      <td>Inside</td>\n",
       "      <td>Gtl</td>\n",
       "      <td>NAmes</td>\n",
       "      <td>...</td>\n",
       "      <td>0</td>\n",
       "      <td>0</td>\n",
       "      <td>0</td>\n",
       "      <td>0</td>\n",
       "      <td>0</td>\n",
       "      <td>0</td>\n",
       "      <td>8</td>\n",
       "      <td>2009</td>\n",
       "      <td>WD</td>\n",
       "      <td>Normal</td>\n",
       "    </tr>\n",
       "    <tr>\n",
       "      <th>93</th>\n",
       "      <td>30</td>\n",
       "      <td>RL</td>\n",
       "      <td>13360</td>\n",
       "      <td>Pave</td>\n",
       "      <td>IR1</td>\n",
       "      <td>HLS</td>\n",
       "      <td>AllPub</td>\n",
       "      <td>Inside</td>\n",
       "      <td>Gtl</td>\n",
       "      <td>Crawfor</td>\n",
       "      <td>...</td>\n",
       "      <td>0</td>\n",
       "      <td>44</td>\n",
       "      <td>0</td>\n",
       "      <td>0</td>\n",
       "      <td>0</td>\n",
       "      <td>0</td>\n",
       "      <td>8</td>\n",
       "      <td>2009</td>\n",
       "      <td>WD</td>\n",
       "      <td>Normal</td>\n",
       "    </tr>\n",
       "    <tr>\n",
       "      <th>818</th>\n",
       "      <td>20</td>\n",
       "      <td>RL</td>\n",
       "      <td>13265</td>\n",
       "      <td>Pave</td>\n",
       "      <td>IR1</td>\n",
       "      <td>Lvl</td>\n",
       "      <td>AllPub</td>\n",
       "      <td>CulDSac</td>\n",
       "      <td>Gtl</td>\n",
       "      <td>Mitchel</td>\n",
       "      <td>...</td>\n",
       "      <td>59</td>\n",
       "      <td>0</td>\n",
       "      <td>0</td>\n",
       "      <td>0</td>\n",
       "      <td>0</td>\n",
       "      <td>0</td>\n",
       "      <td>7</td>\n",
       "      <td>2008</td>\n",
       "      <td>WD</td>\n",
       "      <td>Normal</td>\n",
       "    </tr>\n",
       "    <tr>\n",
       "      <th>303</th>\n",
       "      <td>20</td>\n",
       "      <td>RL</td>\n",
       "      <td>13704</td>\n",
       "      <td>Pave</td>\n",
       "      <td>IR1</td>\n",
       "      <td>Lvl</td>\n",
       "      <td>AllPub</td>\n",
       "      <td>Corner</td>\n",
       "      <td>Gtl</td>\n",
       "      <td>CollgCr</td>\n",
       "      <td>...</td>\n",
       "      <td>81</td>\n",
       "      <td>0</td>\n",
       "      <td>0</td>\n",
       "      <td>0</td>\n",
       "      <td>0</td>\n",
       "      <td>0</td>\n",
       "      <td>1</td>\n",
       "      <td>2006</td>\n",
       "      <td>WD</td>\n",
       "      <td>Normal</td>\n",
       "    </tr>\n",
       "  </tbody>\n",
       "</table>\n",
       "<p>5 rows × 60 columns</p>\n",
       "</div>"
      ],
      "text/plain": [
       "     MSSubClass MSZoning  LotArea Street LotShape LandContour Utilities  \\\n",
       "Id                                                                        \n",
       "619          20       RL    11694   Pave      Reg         Lvl    AllPub   \n",
       "871          20       RL     6600   Pave      Reg         Lvl    AllPub   \n",
       "93           30       RL    13360   Pave      IR1         HLS    AllPub   \n",
       "818          20       RL    13265   Pave      IR1         Lvl    AllPub   \n",
       "303          20       RL    13704   Pave      IR1         Lvl    AllPub   \n",
       "\n",
       "    LotConfig LandSlope Neighborhood  ... OpenPorchSF EnclosedPorch 3SsnPorch  \\\n",
       "Id                                    ...                                       \n",
       "619    Inside       Gtl      NridgHt  ...         108             0         0   \n",
       "871    Inside       Gtl        NAmes  ...           0             0         0   \n",
       "93     Inside       Gtl      Crawfor  ...           0            44         0   \n",
       "818   CulDSac       Gtl      Mitchel  ...          59             0         0   \n",
       "303    Corner       Gtl      CollgCr  ...          81             0         0   \n",
       "\n",
       "    ScreenPorch  PoolArea  MiscVal  MoSold  YrSold SaleType SaleCondition  \n",
       "Id                                                                         \n",
       "619         260         0        0       7    2007      New       Partial  \n",
       "871           0         0        0       8    2009       WD        Normal  \n",
       "93            0         0        0       8    2009       WD        Normal  \n",
       "818           0         0        0       7    2008       WD        Normal  \n",
       "303           0         0        0       1    2006       WD        Normal  \n",
       "\n",
       "[5 rows x 60 columns]"
      ]
     },
     "execution_count": 3,
     "metadata": {},
     "output_type": "execute_result"
    }
   ],
   "source": [
    "X_train.head()"
   ]
  },
  {
   "cell_type": "markdown",
   "id": "203833e2",
   "metadata": {
    "papermill": {
     "duration": 0.013515,
     "end_time": "2024-02-27T09:35:20.023262",
     "exception": false,
     "start_time": "2024-02-27T09:35:20.009747",
     "status": "completed"
    },
    "tags": []
   },
   "source": [
    "Notice that the dataset contains both numerical and categorical variables.  You'll need to encode the categorical data before training a model.\n",
    "\n",
    "To compare different models, you'll use the same `score_dataset()` function from the tutorial.  This function reports the [mean absolute error](https://en.wikipedia.org/wiki/Mean_absolute_error) (MAE) from a random forest model."
   ]
  },
  {
   "cell_type": "code",
   "execution_count": 4,
   "id": "f616e6b3",
   "metadata": {
    "execution": {
     "iopub.execute_input": "2024-02-27T09:35:20.052814Z",
     "iopub.status.busy": "2024-02-27T09:35:20.052365Z",
     "iopub.status.idle": "2024-02-27T09:35:20.473191Z",
     "shell.execute_reply": "2024-02-27T09:35:20.471853Z"
    },
    "papermill": {
     "duration": 0.439541,
     "end_time": "2024-02-27T09:35:20.476308",
     "exception": false,
     "start_time": "2024-02-27T09:35:20.036767",
     "status": "completed"
    },
    "tags": []
   },
   "outputs": [],
   "source": [
    "from sklearn.ensemble import RandomForestRegressor\n",
    "from sklearn.metrics import mean_absolute_error\n",
    "\n",
    "# function for comparing different approaches\n",
    "def score_dataset(X_train, X_valid, y_train, y_valid):\n",
    "    model = RandomForestRegressor(n_estimators=100, random_state=0)\n",
    "    model.fit(X_train, y_train)\n",
    "    preds = model.predict(X_valid)\n",
    "    return mean_absolute_error(y_valid, preds)"
   ]
  },
  {
   "cell_type": "markdown",
   "id": "d7672585",
   "metadata": {
    "papermill": {
     "duration": 0.014084,
     "end_time": "2024-02-27T09:35:20.504947",
     "exception": false,
     "start_time": "2024-02-27T09:35:20.490863",
     "status": "completed"
    },
    "tags": []
   },
   "source": [
    "# Step 1: Drop columns with categorical data\n",
    "\n",
    "You'll get started with the most straightforward approach.  Use the code cell below to preprocess the data in `X_train` and `X_valid` to remove columns with categorical data.  Set the preprocessed DataFrames to `drop_X_train` and `drop_X_valid`, respectively.  "
   ]
  },
  {
   "cell_type": "code",
   "execution_count": 5,
   "id": "acf4154c",
   "metadata": {
    "execution": {
     "iopub.execute_input": "2024-02-27T09:35:20.534961Z",
     "iopub.status.busy": "2024-02-27T09:35:20.534512Z",
     "iopub.status.idle": "2024-02-27T09:35:20.549582Z",
     "shell.execute_reply": "2024-02-27T09:35:20.548339Z"
    },
    "papermill": {
     "duration": 0.03283,
     "end_time": "2024-02-27T09:35:20.552008",
     "exception": false,
     "start_time": "2024-02-27T09:35:20.519178",
     "status": "completed"
    },
    "tags": []
   },
   "outputs": [
    {
     "name": "stdout",
     "output_type": "stream",
     "text": [
      "<class 'pandas.core.frame.DataFrame'>\n"
     ]
    },
    {
     "data": {
      "application/javascript": [
       "parent.postMessage({\"jupyterEvent\": \"custom.exercise_interaction\", \"data\": {\"outcomeType\": 1, \"valueTowardsCompletion\": 0.5, \"interactionType\": 1, \"questionType\": 2, \"questionId\": \"1_Drop\", \"learnToolsVersion\": \"0.3.4\", \"failureMessage\": \"\", \"exceptionClass\": \"\", \"trace\": \"\"}}, \"*\")"
      ],
      "text/plain": [
       "<IPython.core.display.Javascript object>"
      ]
     },
     "metadata": {},
     "output_type": "display_data"
    },
    {
     "data": {
      "text/markdown": [
       "<span style=\"color:#33cc33\">Correct</span>"
      ],
      "text/plain": [
       "Correct"
      ]
     },
     "metadata": {},
     "output_type": "display_data"
    }
   ],
   "source": [
    "# Fill in the lines below: drop columns in training and validation data\n",
    "\n",
    "drop_X_train = X_train.select_dtypes(exclude=['object'])\n",
    "drop_X_valid = X_valid.select_dtypes(exclude=['object'])\n",
    "print(type(drop_X_train))\n",
    "# Check your answers\n",
    "step_1.check()"
   ]
  },
  {
   "cell_type": "code",
   "execution_count": 6,
   "id": "c3b908f9",
   "metadata": {
    "execution": {
     "iopub.execute_input": "2024-02-27T09:35:20.582807Z",
     "iopub.status.busy": "2024-02-27T09:35:20.582306Z",
     "iopub.status.idle": "2024-02-27T09:35:20.587802Z",
     "shell.execute_reply": "2024-02-27T09:35:20.586567Z"
    },
    "papermill": {
     "duration": 0.024106,
     "end_time": "2024-02-27T09:35:20.590549",
     "exception": false,
     "start_time": "2024-02-27T09:35:20.566443",
     "status": "completed"
    },
    "tags": []
   },
   "outputs": [],
   "source": [
    "# Lines below will give you a hint or solution code\n",
    "#step_1.hint()\n",
    "#step_1.solution()"
   ]
  },
  {
   "cell_type": "markdown",
   "id": "9c5141eb",
   "metadata": {
    "papermill": {
     "duration": 0.013599,
     "end_time": "2024-02-27T09:35:20.618090",
     "exception": false,
     "start_time": "2024-02-27T09:35:20.604491",
     "status": "completed"
    },
    "tags": []
   },
   "source": [
    "Run the next code cell to get the MAE for this approach."
   ]
  },
  {
   "cell_type": "code",
   "execution_count": 7,
   "id": "941593f0",
   "metadata": {
    "execution": {
     "iopub.execute_input": "2024-02-27T09:35:20.648142Z",
     "iopub.status.busy": "2024-02-27T09:35:20.647699Z",
     "iopub.status.idle": "2024-02-27T09:35:22.063046Z",
     "shell.execute_reply": "2024-02-27T09:35:22.061402Z"
    },
    "papermill": {
     "duration": 1.433953,
     "end_time": "2024-02-27T09:35:22.066313",
     "exception": false,
     "start_time": "2024-02-27T09:35:20.632360",
     "status": "completed"
    },
    "tags": []
   },
   "outputs": [
    {
     "name": "stdout",
     "output_type": "stream",
     "text": [
      "MAE from Approach 1 (Drop categorical variables):\n",
      "17837.82570776256\n"
     ]
    }
   ],
   "source": [
    "print(\"MAE from Approach 1 (Drop categorical variables):\")\n",
    "print(score_dataset(drop_X_train, drop_X_valid, y_train, y_valid))"
   ]
  },
  {
   "cell_type": "markdown",
   "id": "7a8579dc",
   "metadata": {
    "papermill": {
     "duration": 0.014356,
     "end_time": "2024-02-27T09:35:22.096055",
     "exception": false,
     "start_time": "2024-02-27T09:35:22.081699",
     "status": "completed"
    },
    "tags": []
   },
   "source": [
    "Before jumping into ordinal encoding, we'll investigate the dataset.  Specifically, we'll look at the `'Condition2'` column.  The code cell below prints the unique entries in both the training and validation sets."
   ]
  },
  {
   "cell_type": "code",
   "execution_count": 8,
   "id": "59961022",
   "metadata": {
    "execution": {
     "iopub.execute_input": "2024-02-27T09:35:22.128413Z",
     "iopub.status.busy": "2024-02-27T09:35:22.127825Z",
     "iopub.status.idle": "2024-02-27T09:35:22.158920Z",
     "shell.execute_reply": "2024-02-27T09:35:22.157096Z"
    },
    "papermill": {
     "duration": 0.051284,
     "end_time": "2024-02-27T09:35:22.162019",
     "exception": false,
     "start_time": "2024-02-27T09:35:22.110735",
     "status": "completed"
    },
    "tags": []
   },
   "outputs": [
    {
     "name": "stdout",
     "output_type": "stream",
     "text": [
      "<class 'pandas.core.frame.DataFrame'>\n",
      "Index: 1168 entries, 619 to 685\n",
      "Data columns (total 60 columns):\n",
      " #   Column         Non-Null Count  Dtype \n",
      "---  ------         --------------  ----- \n",
      " 0   MSSubClass     1168 non-null   int64 \n",
      " 1   MSZoning       1168 non-null   object\n",
      " 2   LotArea        1168 non-null   int64 \n",
      " 3   Street         1168 non-null   object\n",
      " 4   LotShape       1168 non-null   object\n",
      " 5   LandContour    1168 non-null   object\n",
      " 6   Utilities      1168 non-null   object\n",
      " 7   LotConfig      1168 non-null   object\n",
      " 8   LandSlope      1168 non-null   object\n",
      " 9   Neighborhood   1168 non-null   object\n",
      " 10  Condition1     1168 non-null   object\n",
      " 11  Condition2     1168 non-null   object\n",
      " 12  BldgType       1168 non-null   object\n",
      " 13  HouseStyle     1168 non-null   object\n",
      " 14  OverallQual    1168 non-null   int64 \n",
      " 15  OverallCond    1168 non-null   int64 \n",
      " 16  YearBuilt      1168 non-null   int64 \n",
      " 17  YearRemodAdd   1168 non-null   int64 \n",
      " 18  RoofStyle      1168 non-null   object\n",
      " 19  RoofMatl       1168 non-null   object\n",
      " 20  Exterior1st    1168 non-null   object\n",
      " 21  Exterior2nd    1168 non-null   object\n",
      " 22  ExterQual      1168 non-null   object\n",
      " 23  ExterCond      1168 non-null   object\n",
      " 24  Foundation     1168 non-null   object\n",
      " 25  BsmtFinSF1     1168 non-null   int64 \n",
      " 26  BsmtFinSF2     1168 non-null   int64 \n",
      " 27  BsmtUnfSF      1168 non-null   int64 \n",
      " 28  TotalBsmtSF    1168 non-null   int64 \n",
      " 29  Heating        1168 non-null   object\n",
      " 30  HeatingQC      1168 non-null   object\n",
      " 31  CentralAir     1168 non-null   object\n",
      " 32  1stFlrSF       1168 non-null   int64 \n",
      " 33  2ndFlrSF       1168 non-null   int64 \n",
      " 34  LowQualFinSF   1168 non-null   int64 \n",
      " 35  GrLivArea      1168 non-null   int64 \n",
      " 36  BsmtFullBath   1168 non-null   int64 \n",
      " 37  BsmtHalfBath   1168 non-null   int64 \n",
      " 38  FullBath       1168 non-null   int64 \n",
      " 39  HalfBath       1168 non-null   int64 \n",
      " 40  BedroomAbvGr   1168 non-null   int64 \n",
      " 41  KitchenAbvGr   1168 non-null   int64 \n",
      " 42  KitchenQual    1168 non-null   object\n",
      " 43  TotRmsAbvGrd   1168 non-null   int64 \n",
      " 44  Functional     1168 non-null   object\n",
      " 45  Fireplaces     1168 non-null   int64 \n",
      " 46  GarageCars     1168 non-null   int64 \n",
      " 47  GarageArea     1168 non-null   int64 \n",
      " 48  PavedDrive     1168 non-null   object\n",
      " 49  WoodDeckSF     1168 non-null   int64 \n",
      " 50  OpenPorchSF    1168 non-null   int64 \n",
      " 51  EnclosedPorch  1168 non-null   int64 \n",
      " 52  3SsnPorch      1168 non-null   int64 \n",
      " 53  ScreenPorch    1168 non-null   int64 \n",
      " 54  PoolArea       1168 non-null   int64 \n",
      " 55  MiscVal        1168 non-null   int64 \n",
      " 56  MoSold         1168 non-null   int64 \n",
      " 57  YrSold         1168 non-null   int64 \n",
      " 58  SaleType       1168 non-null   object\n",
      " 59  SaleCondition  1168 non-null   object\n",
      "dtypes: int64(33), object(27)\n",
      "memory usage: 556.6+ KB\n",
      "None\n"
     ]
    }
   ],
   "source": [
    "print(X_train.info())"
   ]
  },
  {
   "cell_type": "code",
   "execution_count": 9,
   "id": "a3cb9797",
   "metadata": {
    "execution": {
     "iopub.execute_input": "2024-02-27T09:35:22.194033Z",
     "iopub.status.busy": "2024-02-27T09:35:22.193576Z",
     "iopub.status.idle": "2024-02-27T09:35:22.217181Z",
     "shell.execute_reply": "2024-02-27T09:35:22.215745Z"
    },
    "papermill": {
     "duration": 0.043676,
     "end_time": "2024-02-27T09:35:22.220402",
     "exception": false,
     "start_time": "2024-02-27T09:35:22.176726",
     "status": "completed"
    },
    "tags": []
   },
   "outputs": [
    {
     "name": "stdout",
     "output_type": "stream",
     "text": [
      "Unique values in training data: {'ScreenPorch', 'LotArea', 'YearBuilt', 'BsmtFullBath', 'Exterior2nd', 'BsmtUnfSF', 'BsmtHalfBath', 'Street', 'Heating', 'LowQualFinSF', 'RoofMatl', 'GarageArea', 'Foundation', 'OpenPorchSF', 'MoSold', 'Condition2', 'BsmtFinSF1', 'HalfBath', 'KitchenAbvGr', 'GarageCars', 'SaleType', 'Utilities', 'Exterior1st', 'CentralAir', 'WoodDeckSF', 'KitchenQual', 'YrSold', 'MSZoning', 'Fireplaces', 'PoolArea', 'GrLivArea', 'Neighborhood', 'Condition1', 'LandSlope', 'MSSubClass', 'TotRmsAbvGrd', 'PavedDrive', 'LotShape', 'HeatingQC', 'TotalBsmtSF', 'Functional', 'HouseStyle', 'OverallCond', 'LandContour', 'OverallQual', 'RoofStyle', 'EnclosedPorch', 'LotConfig', 'FullBath', '3SsnPorch', 'BldgType', '1stFlrSF', 'ExterCond', '2ndFlrSF', 'MiscVal', 'SaleCondition', 'BsmtFinSF2', 'ExterQual', 'YearRemodAdd', 'BedroomAbvGr'}\n",
      "Unique values in MSZoning column in training data: ['RL' 'FV' 'RM' 'RH' 'C (all)']\n",
      "Unique values in Street column in training data: ['Pave' 'Grvl']\n",
      "Unique values in LotShape column in training data: ['Reg' 'IR1' 'IR2' 'IR3']\n",
      "Unique values in LandContour column in training data: ['Lvl' 'HLS' 'Bnk' 'Low']\n",
      "Unique values in Utilities column in training data: ['AllPub' 'NoSeWa']\n",
      "Unique values in LotConfig column in training data: ['Inside' 'CulDSac' 'Corner' 'FR2' 'FR3']\n",
      "Unique values in LandSlope column in training data: ['Gtl' 'Mod' 'Sev']\n",
      "Unique values in Neighborhood column in training data: ['NridgHt' 'NAmes' 'Crawfor' 'Mitchel' 'CollgCr' 'Somerst' 'MeadowV'\n",
      " 'BrkSide' 'Edwards' 'OldTown' 'Veenker' 'Gilbert' 'IDOTRR' 'Timber'\n",
      " 'Blmngtn' 'StoneBr' 'SWISU' 'SawyerW' 'NWAmes' 'Sawyer' 'NoRidge'\n",
      " 'ClearCr' 'BrDale' 'NPkVill' 'Blueste']\n",
      "Unique values in Condition1 column in training data: ['Norm' 'PosN' 'Feedr' 'Artery' 'PosA' 'RRAn' 'RRAe' 'RRNn' 'RRNe']\n",
      "Unique values in Condition2 column in training data: ['Norm' 'PosA' 'Feedr' 'PosN' 'Artery' 'RRAe']\n",
      "Unique values in BldgType column in training data: ['1Fam' 'Twnhs' 'TwnhsE' '2fmCon' 'Duplex']\n",
      "Unique values in HouseStyle column in training data: ['1Story' '2Story' 'SLvl' '1.5Fin' '2.5Unf' '2.5Fin' 'SFoyer' '1.5Unf']\n",
      "Unique values in RoofStyle column in training data: ['Hip' 'Gable' 'Flat' 'Mansard' 'Shed' 'Gambrel']\n",
      "Unique values in RoofMatl column in training data: ['CompShg' 'Membran' 'Tar&Grv' 'WdShake' 'WdShngl' 'Metal' 'Roll']\n",
      "Unique values in Exterior1st column in training data: ['CemntBd' 'MetalSd' 'Wd Sdng' 'VinylSd' 'Plywood' 'HdBoard' 'BrkFace'\n",
      " 'AsbShng' 'WdShing' 'AsphShn' 'Stucco' 'BrkComm' 'ImStucc' 'CBlock'\n",
      " 'Stone']\n",
      "Unique values in Exterior2nd column in training data: ['CmentBd' 'MetalSd' 'Wd Sdng' 'VinylSd' 'BrkFace' 'Plywood' 'HdBoard'\n",
      " 'Wd Shng' 'AsbShng' 'Brk Cmn' 'AsphShn' 'Stucco' 'ImStucc' 'Stone'\n",
      " 'CBlock' 'Other']\n",
      "Unique values in ExterQual column in training data: ['Ex' 'TA' 'Gd' 'Fa']\n",
      "Unique values in ExterCond column in training data: ['TA' 'Gd' 'Ex' 'Fa' 'Po']\n",
      "Unique values in Foundation column in training data: ['PConc' 'CBlock' 'BrkTil' 'Stone' 'Slab' 'Wood']\n",
      "Unique values in Heating column in training data: ['GasA' 'OthW' 'GasW' 'Grav' 'Wall' 'Floor']\n",
      "Unique values in HeatingQC column in training data: ['Ex' 'Gd' 'TA' 'Fa' 'Po']\n",
      "Unique values in CentralAir column in training data: ['Y' 'N']\n",
      "Unique values in KitchenQual column in training data: ['Gd' 'TA' 'Ex' 'Fa']\n",
      "Unique values in Functional column in training data: ['Typ' 'Min1' 'Min2' 'Maj2' 'Mod' 'Maj1']\n",
      "Unique values in PavedDrive column in training data: ['Y' 'P' 'N']\n",
      "Unique values in SaleType column in training data: ['New' 'WD' 'COD' 'ConLD' 'ConLw' 'Oth' 'ConLI' 'Con' 'CWD']\n",
      "Unique values in SaleCondition column in training data: ['Partial' 'Normal' 'Abnorml' 'Family' 'Alloca' 'AdjLand']\n",
      "Unique values in MSZoning column in valid data: ['RL' 'RM' 'FV' 'RH' 'C (all)']\n",
      "Unique values in Street column in valid data: ['Pave' 'Grvl']\n",
      "Unique values in LotShape column in valid data: ['IR1' 'Reg' 'IR2' 'IR3']\n",
      "Unique values in LandContour column in valid data: ['Lvl' 'Bnk' 'HLS' 'Low']\n",
      "Unique values in Utilities column in valid data: ['AllPub']\n",
      "Unique values in LotConfig column in valid data: ['CulDSac' 'Inside' 'Corner' 'FR2' 'FR3']\n",
      "Unique values in LandSlope column in valid data: ['Gtl' 'Mod']\n",
      "Unique values in Neighborhood column in valid data: ['Crawfor' 'NAmes' 'BrkSide' 'ClearCr' 'BrDale' 'OldTown' 'Somerst'\n",
      " 'IDOTRR' 'NoRidge' 'NWAmes' 'Gilbert' 'CollgCr' 'Sawyer' 'MeadowV'\n",
      " 'Edwards' 'SawyerW' 'Mitchel' 'StoneBr' 'NridgHt' 'Timber' 'Blmngtn'\n",
      " 'NPkVill' 'SWISU' 'Veenker']\n",
      "Unique values in Condition1 column in valid data: ['Norm' 'Artery' 'RRAn' 'Feedr' 'RRNn' 'PosN' 'RRAe' 'PosA']\n",
      "Unique values in Condition2 column in valid data: ['Norm' 'RRAn' 'RRNn' 'Artery' 'Feedr' 'PosN']\n",
      "Unique values in BldgType column in valid data: ['1Fam' 'Twnhs' 'TwnhsE' 'Duplex' '2fmCon']\n",
      "Unique values in HouseStyle column in valid data: ['1Story' '1.5Fin' '2Story' 'SFoyer' 'SLvl' '1.5Unf' '2.5Fin' '2.5Unf']\n",
      "Unique values in RoofStyle column in valid data: ['Hip' 'Gable' 'Flat' 'Gambrel' 'Mansard']\n",
      "Unique values in RoofMatl column in valid data: ['CompShg' 'Tar&Grv' 'WdShngl' 'ClyTile']\n",
      "Unique values in Exterior1st column in valid data: ['Wd Sdng' 'MetalSd' 'Plywood' 'HdBoard' 'VinylSd' 'Stucco' 'BrkFace'\n",
      " 'CemntBd' 'WdShing' 'BrkComm' 'AsbShng']\n",
      "Unique values in Exterior2nd column in valid data: ['Stone' 'Wd Sdng' 'MetalSd' 'Plywood' 'ImStucc' 'Stucco' 'VinylSd'\n",
      " 'HdBoard' 'CmentBd' 'Wd Shng' 'BrkFace' 'Brk Cmn' 'AsbShng' 'AsphShn']\n",
      "Unique values in ExterQual column in valid data: ['Gd' 'TA' 'Fa' 'Ex']\n",
      "Unique values in ExterCond column in valid data: ['TA' 'Gd' 'Fa']\n",
      "Unique values in Foundation column in valid data: ['PConc' 'CBlock' 'BrkTil' 'Slab' 'Wood']\n",
      "Unique values in Heating column in valid data: ['GasA' 'GasW' 'Wall']\n",
      "Unique values in HeatingQC column in valid data: ['TA' 'Ex' 'Fa' 'Gd']\n",
      "Unique values in CentralAir column in valid data: ['Y' 'N']\n",
      "Unique values in KitchenQual column in valid data: ['TA' 'Fa' 'Gd' 'Ex']\n",
      "Unique values in Functional column in valid data: ['Maj1' 'Typ' 'Maj2' 'Min2' 'Min1' 'Sev' 'Mod']\n",
      "Unique values in PavedDrive column in valid data: ['Y' 'P' 'N']\n",
      "Unique values in SaleType column in valid data: ['WD' 'New' 'ConLD' 'COD' 'CWD' 'Oth' 'ConLI' 'Con']\n",
      "Unique values in SaleCondition column in valid data: ['Alloca' 'Normal' 'Family' 'Abnorml' 'Partial' 'AdjLand']\n"
     ]
    }
   ],
   "source": [
    "list_cols=[cname for cname in X_train.columns if X_train[cname].dtype == \"object\"]\n",
    "print(f\"Unique values in training data:\", set(X_train))\n",
    "for col in list_cols:\n",
    "    print(f\"Unique values in {col} column in training data:\", X_train[col].unique())\n",
    "for col in list_cols:\n",
    "    print(f\"Unique values in {col} column in valid data:\", X_valid[col].unique())"
   ]
  },
  {
   "cell_type": "markdown",
   "id": "88c83415",
   "metadata": {
    "papermill": {
     "duration": 0.014712,
     "end_time": "2024-02-27T09:35:22.250029",
     "exception": false,
     "start_time": "2024-02-27T09:35:22.235317",
     "status": "completed"
    },
    "tags": []
   },
   "source": [
    "# Step 2: Ordinal encoding\n",
    "\n",
    "### Part A\n",
    "\n",
    "If you now write code to: \n",
    "- fit an ordinal encoder to the training data, and then \n",
    "- use it to transform both the training and validation data, \n",
    "\n",
    "you'll get an error.  Can you see why this is the case?  (_You'll need  to use the above output to answer this question._)"
   ]
  },
  {
   "cell_type": "code",
   "execution_count": 10,
   "id": "1bebc4e0",
   "metadata": {
    "execution": {
     "iopub.execute_input": "2024-02-27T09:35:22.282240Z",
     "iopub.status.busy": "2024-02-27T09:35:22.281830Z",
     "iopub.status.idle": "2024-02-27T09:35:22.291541Z",
     "shell.execute_reply": "2024-02-27T09:35:22.290318Z"
    },
    "papermill": {
     "duration": 0.029079,
     "end_time": "2024-02-27T09:35:22.294081",
     "exception": false,
     "start_time": "2024-02-27T09:35:22.265002",
     "status": "completed"
    },
    "tags": []
   },
   "outputs": [
    {
     "data": {
      "application/javascript": [
       "parent.postMessage({\"jupyterEvent\": \"custom.exercise_interaction\", \"data\": {\"outcomeType\": 1, \"valueTowardsCompletion\": 0.5, \"interactionType\": 1, \"questionType\": 4, \"questionId\": \"2.1_LabelA\", \"learnToolsVersion\": \"0.3.4\", \"failureMessage\": \"\", \"exceptionClass\": \"\", \"trace\": \"\"}}, \"*\")"
      ],
      "text/plain": [
       "<IPython.core.display.Javascript object>"
      ]
     },
     "metadata": {},
     "output_type": "display_data"
    },
    {
     "data": {
      "text/markdown": [
       "<span style=\"color:#33cc33\">Correct:</span> \n",
       "\n",
       "Fitting an ordinal encoder to a column in the training data creates a corresponding integer-valued label for each unique value **that appears in the training data**. In the case that the validation data contains values that don't also appear in the training data, the encoder will throw an error, because these values won't have an integer assigned to them.  Notice that the `'Condition2'` column in the validation data contains the values `'RRAn'` and `'RRNn'`, but these don't appear in the training data -- thus, if we try to use an ordinal encoder with scikit-learn, the code will throw an error."
      ],
      "text/plain": [
       "Correct: \n",
       "\n",
       "Fitting an ordinal encoder to a column in the training data creates a corresponding integer-valued label for each unique value **that appears in the training data**. In the case that the validation data contains values that don't also appear in the training data, the encoder will throw an error, because these values won't have an integer assigned to them.  Notice that the `'Condition2'` column in the validation data contains the values `'RRAn'` and `'RRNn'`, but these don't appear in the training data -- thus, if we try to use an ordinal encoder with scikit-learn, the code will throw an error."
      ]
     },
     "metadata": {},
     "output_type": "display_data"
    }
   ],
   "source": [
    "# Check your answer (Run this code cell to receive credit!)\n",
    "step_2.a.check()"
   ]
  },
  {
   "cell_type": "code",
   "execution_count": 11,
   "id": "ea18881a",
   "metadata": {
    "execution": {
     "iopub.execute_input": "2024-02-27T09:35:22.326622Z",
     "iopub.status.busy": "2024-02-27T09:35:22.326176Z",
     "iopub.status.idle": "2024-02-27T09:35:22.335558Z",
     "shell.execute_reply": "2024-02-27T09:35:22.334368Z"
    },
    "papermill": {
     "duration": 0.028864,
     "end_time": "2024-02-27T09:35:22.337997",
     "exception": false,
     "start_time": "2024-02-27T09:35:22.309133",
     "status": "completed"
    },
    "tags": []
   },
   "outputs": [
    {
     "data": {
      "application/javascript": [
       "parent.postMessage({\"jupyterEvent\": \"custom.exercise_interaction\", \"data\": {\"interactionType\": 2, \"questionType\": 4, \"questionId\": \"2.1_LabelA\", \"learnToolsVersion\": \"0.3.4\", \"valueTowardsCompletion\": 0.0, \"failureMessage\": \"\", \"exceptionClass\": \"\", \"trace\": \"\", \"outcomeType\": 4}}, \"*\")"
      ],
      "text/plain": [
       "<IPython.core.display.Javascript object>"
      ]
     },
     "metadata": {},
     "output_type": "display_data"
    },
    {
     "data": {
      "text/markdown": [
       "<span style=\"color:#3366cc\">Hint:</span> Are there any values that appear in the validation data but not in the training data?"
      ],
      "text/plain": [
       "Hint: Are there any values that appear in the validation data but not in the training data?"
      ]
     },
     "metadata": {},
     "output_type": "display_data"
    }
   ],
   "source": [
    "step_2.a.hint()"
   ]
  },
  {
   "cell_type": "markdown",
   "id": "efa0cd8d",
   "metadata": {
    "papermill": {
     "duration": 0.015473,
     "end_time": "2024-02-27T09:35:22.369069",
     "exception": false,
     "start_time": "2024-02-27T09:35:22.353596",
     "status": "completed"
    },
    "tags": []
   },
   "source": [
    "This is a common problem that you'll encounter with real-world data, and there are many approaches to fixing this issue.  For instance, you can write a custom ordinal encoder to deal with new categories.  The simplest approach, however, is to drop the problematic categorical columns.  \n",
    "\n",
    "Run the code cell below to save the problematic columns to a Python list `bad_label_cols`.  Likewise, columns that can be safely ordinal encoded are stored in `good_label_cols`."
   ]
  },
  {
   "cell_type": "code",
   "execution_count": 12,
   "id": "6f9de1f5",
   "metadata": {
    "execution": {
     "iopub.execute_input": "2024-02-27T09:35:22.403381Z",
     "iopub.status.busy": "2024-02-27T09:35:22.402677Z",
     "iopub.status.idle": "2024-02-27T09:35:22.417599Z",
     "shell.execute_reply": "2024-02-27T09:35:22.416267Z"
    },
    "papermill": {
     "duration": 0.035594,
     "end_time": "2024-02-27T09:35:22.420314",
     "exception": false,
     "start_time": "2024-02-27T09:35:22.384720",
     "status": "completed"
    },
    "tags": []
   },
   "outputs": [
    {
     "name": "stdout",
     "output_type": "stream",
     "text": [
      "Categorical columns that will be ordinal encoded: ['MSZoning', 'Street', 'LotShape', 'LandContour', 'Utilities', 'LotConfig', 'LandSlope', 'Neighborhood', 'Condition1', 'BldgType', 'HouseStyle', 'RoofStyle', 'Exterior1st', 'Exterior2nd', 'ExterQual', 'ExterCond', 'Foundation', 'Heating', 'HeatingQC', 'CentralAir', 'KitchenQual', 'PavedDrive', 'SaleType', 'SaleCondition']\n",
      "\n",
      "Categorical columns that will be dropped from the dataset: ['Functional', 'RoofMatl', 'Condition2']\n"
     ]
    }
   ],
   "source": [
    "# Categorical columns in the training data\n",
    "object_cols = [col for col in X_train.columns if X_train[col].dtype == \"object\"]\n",
    "\n",
    "# Columns that can be safely ordinal encoded\n",
    "good_label_cols = [col for col in object_cols if \n",
    "                   set(X_valid[col]).issubset(set(X_train[col]))]\n",
    "        \n",
    "# Problematic columns that will be dropped from the dataset\n",
    "bad_label_cols = list(set(object_cols)-set(good_label_cols))\n",
    "        \n",
    "print('Categorical columns that will be ordinal encoded:', good_label_cols)\n",
    "print('\\nCategorical columns that will be dropped from the dataset:', bad_label_cols)"
   ]
  },
  {
   "cell_type": "markdown",
   "id": "69263d0f",
   "metadata": {
    "papermill": {
     "duration": 0.016167,
     "end_time": "2024-02-27T09:35:22.452841",
     "exception": false,
     "start_time": "2024-02-27T09:35:22.436674",
     "status": "completed"
    },
    "tags": []
   },
   "source": [
    "### Part B\n",
    "\n",
    "Use the next code cell to ordinal encode the data in `X_train` and `X_valid`.  Set the preprocessed DataFrames to `label_X_train` and `label_X_valid`, respectively.  \n",
    "- We have provided code below to drop the categorical columns in `bad_label_cols` from the dataset. \n",
    "- You should ordinal encode the categorical columns in `good_label_cols`.  "
   ]
  },
  {
   "cell_type": "code",
   "execution_count": 13,
   "id": "d16bd40e",
   "metadata": {
    "execution": {
     "iopub.execute_input": "2024-02-27T09:35:22.487017Z",
     "iopub.status.busy": "2024-02-27T09:35:22.485650Z",
     "iopub.status.idle": "2024-02-27T09:35:22.539856Z",
     "shell.execute_reply": "2024-02-27T09:35:22.538279Z"
    },
    "papermill": {
     "duration": 0.074461,
     "end_time": "2024-02-27T09:35:22.543094",
     "exception": false,
     "start_time": "2024-02-27T09:35:22.468633",
     "status": "completed"
    },
    "tags": []
   },
   "outputs": [
    {
     "data": {
      "application/javascript": [
       "parent.postMessage({\"jupyterEvent\": \"custom.exercise_interaction\", \"data\": {\"outcomeType\": 1, \"valueTowardsCompletion\": 0.5, \"interactionType\": 1, \"questionType\": 2, \"questionId\": \"2.2_LabelB\", \"learnToolsVersion\": \"0.3.4\", \"failureMessage\": \"\", \"exceptionClass\": \"\", \"trace\": \"\"}}, \"*\")"
      ],
      "text/plain": [
       "<IPython.core.display.Javascript object>"
      ]
     },
     "metadata": {},
     "output_type": "display_data"
    },
    {
     "data": {
      "text/markdown": [
       "<span style=\"color:#33cc33\">Correct</span>"
      ],
      "text/plain": [
       "Correct"
      ]
     },
     "metadata": {},
     "output_type": "display_data"
    }
   ],
   "source": [
    "from sklearn.preprocessing import OrdinalEncoder\n",
    "\n",
    "# Drop categorical columns that will not be encoded\n",
    "label_X_train = X_train.drop(bad_label_cols, axis=1)\n",
    "label_X_valid = X_valid.drop(bad_label_cols, axis=1)\n",
    "\n",
    "# Apply ordinal encoder \n",
    "ordinal_encoder = OrdinalEncoder()\n",
    "label_X_train[good_label_cols] = ordinal_encoder.fit_transform(X_train[good_label_cols])\n",
    "label_X_valid[good_label_cols] = ordinal_encoder.transform(X_valid[good_label_cols]) # Your code here\n",
    "    \n",
    "# Check your answer\n",
    "step_2.b.check()"
   ]
  },
  {
   "cell_type": "code",
   "execution_count": 14,
   "id": "2c01e486",
   "metadata": {
    "execution": {
     "iopub.execute_input": "2024-02-27T09:35:22.578225Z",
     "iopub.status.busy": "2024-02-27T09:35:22.577065Z",
     "iopub.status.idle": "2024-02-27T09:35:22.582782Z",
     "shell.execute_reply": "2024-02-27T09:35:22.581543Z"
    },
    "papermill": {
     "duration": 0.026195,
     "end_time": "2024-02-27T09:35:22.585423",
     "exception": false,
     "start_time": "2024-02-27T09:35:22.559228",
     "status": "completed"
    },
    "tags": []
   },
   "outputs": [],
   "source": [
    "# Lines below will give you a hint or solution code\n",
    "#step_2.b.hint()\n",
    "#step_2.b.solution()"
   ]
  },
  {
   "cell_type": "markdown",
   "id": "5b7a9881",
   "metadata": {
    "papermill": {
     "duration": 0.016797,
     "end_time": "2024-02-27T09:35:22.618702",
     "exception": false,
     "start_time": "2024-02-27T09:35:22.601905",
     "status": "completed"
    },
    "tags": []
   },
   "source": [
    "Run the next code cell to get the MAE for this approach."
   ]
  },
  {
   "cell_type": "code",
   "execution_count": 15,
   "id": "9e1a541a",
   "metadata": {
    "execution": {
     "iopub.execute_input": "2024-02-27T09:35:22.652914Z",
     "iopub.status.busy": "2024-02-27T09:35:22.652500Z",
     "iopub.status.idle": "2024-02-27T09:35:24.349988Z",
     "shell.execute_reply": "2024-02-27T09:35:24.348175Z"
    },
    "papermill": {
     "duration": 1.718007,
     "end_time": "2024-02-27T09:35:24.352953",
     "exception": false,
     "start_time": "2024-02-27T09:35:22.634946",
     "status": "completed"
    },
    "tags": []
   },
   "outputs": [
    {
     "name": "stdout",
     "output_type": "stream",
     "text": [
      "MAE from Approach 2 (Ordinal Encoding):\n",
      "17098.01649543379\n"
     ]
    }
   ],
   "source": [
    "print(\"MAE from Approach 2 (Ordinal Encoding):\") \n",
    "print(score_dataset(label_X_train, label_X_valid, y_train, y_valid))"
   ]
  },
  {
   "cell_type": "markdown",
   "id": "966c54e3",
   "metadata": {
    "papermill": {
     "duration": 0.016899,
     "end_time": "2024-02-27T09:35:24.387536",
     "exception": false,
     "start_time": "2024-02-27T09:35:24.370637",
     "status": "completed"
    },
    "tags": []
   },
   "source": [
    "So far, you've tried two different approaches to dealing with categorical variables.  And, you've seen that encoding categorical data yields better results than removing columns from the dataset.\n",
    "\n",
    "Soon, you'll try one-hot encoding.  Before then, there's one additional topic we need to cover.  Begin by running the next code cell without changes.  "
   ]
  },
  {
   "cell_type": "code",
   "execution_count": 16,
   "id": "ef47401d",
   "metadata": {
    "execution": {
     "iopub.execute_input": "2024-02-27T09:35:24.422278Z",
     "iopub.status.busy": "2024-02-27T09:35:24.421833Z",
     "iopub.status.idle": "2024-02-27T09:35:24.438125Z",
     "shell.execute_reply": "2024-02-27T09:35:24.436882Z"
    },
    "papermill": {
     "duration": 0.037095,
     "end_time": "2024-02-27T09:35:24.440996",
     "exception": false,
     "start_time": "2024-02-27T09:35:24.403901",
     "status": "completed"
    },
    "tags": []
   },
   "outputs": [
    {
     "data": {
      "text/plain": [
       "[('Street', 2),\n",
       " ('Utilities', 2),\n",
       " ('CentralAir', 2),\n",
       " ('LandSlope', 3),\n",
       " ('PavedDrive', 3),\n",
       " ('LotShape', 4),\n",
       " ('LandContour', 4),\n",
       " ('ExterQual', 4),\n",
       " ('KitchenQual', 4),\n",
       " ('MSZoning', 5),\n",
       " ('LotConfig', 5),\n",
       " ('BldgType', 5),\n",
       " ('ExterCond', 5),\n",
       " ('HeatingQC', 5),\n",
       " ('Condition2', 6),\n",
       " ('RoofStyle', 6),\n",
       " ('Foundation', 6),\n",
       " ('Heating', 6),\n",
       " ('Functional', 6),\n",
       " ('SaleCondition', 6),\n",
       " ('RoofMatl', 7),\n",
       " ('HouseStyle', 8),\n",
       " ('Condition1', 9),\n",
       " ('SaleType', 9),\n",
       " ('Exterior1st', 15),\n",
       " ('Exterior2nd', 16),\n",
       " ('Neighborhood', 25)]"
      ]
     },
     "execution_count": 16,
     "metadata": {},
     "output_type": "execute_result"
    }
   ],
   "source": [
    "# Get number of unique entries in each column with categorical data\n",
    "object_nunique = list(map(lambda col: X_train[col].nunique(), object_cols))\n",
    "d = dict(zip(object_cols, object_nunique))\n",
    "\n",
    "# Print number of unique entries by column, in ascending order\n",
    "sorted(d.items(), key=lambda x: x[1])"
   ]
  },
  {
   "cell_type": "markdown",
   "id": "4efad0a7",
   "metadata": {
    "papermill": {
     "duration": 0.01839,
     "end_time": "2024-02-27T09:35:24.541745",
     "exception": false,
     "start_time": "2024-02-27T09:35:24.523355",
     "status": "completed"
    },
    "tags": []
   },
   "source": [
    "# Step 3: Investigating cardinality\n",
    "\n",
    "### Part A\n",
    "\n",
    "The output above shows, for each column with categorical data, the number of unique values in the column.  For instance, the `'Street'` column in the training data has two unique values: `'Grvl'` and `'Pave'`, corresponding to a gravel road and a paved road, respectively.\n",
    "\n",
    "We refer to the number of unique entries of a categorical variable as the **cardinality** of that categorical variable.  For instance, the `'Street'` variable has cardinality 2.\n",
    "\n",
    "Use the output above to answer the questions below."
   ]
  },
  {
   "cell_type": "code",
   "execution_count": 17,
   "id": "05ffff08",
   "metadata": {
    "execution": {
     "iopub.execute_input": "2024-02-27T09:35:24.580109Z",
     "iopub.status.busy": "2024-02-27T09:35:24.579673Z",
     "iopub.status.idle": "2024-02-27T09:35:24.605115Z",
     "shell.execute_reply": "2024-02-27T09:35:24.603892Z"
    },
    "papermill": {
     "duration": 0.048321,
     "end_time": "2024-02-27T09:35:24.608343",
     "exception": false,
     "start_time": "2024-02-27T09:35:24.560022",
     "status": "completed"
    },
    "tags": []
   },
   "outputs": [
    {
     "name": "stdout",
     "output_type": "stream",
     "text": [
      "{'ClearCr', 'SawyerW', 'CollgCr', 'NoRidge', 'Blueste', 'IDOTRR', 'Somerst', 'Mitchel', 'Crawfor', 'NridgHt', 'StoneBr', 'Veenker', 'SWISU', 'OldTown', 'Sawyer', 'BrkSide', 'NAmes', 'MeadowV', 'Blmngtn', 'NWAmes', 'Timber', 'NPkVill', 'Edwards', 'Gilbert', 'BrDale'}\n"
     ]
    },
    {
     "data": {
      "application/javascript": [
       "parent.postMessage({\"jupyterEvent\": \"custom.exercise_interaction\", \"data\": {\"outcomeType\": 1, \"valueTowardsCompletion\": 0.5, \"interactionType\": 1, \"questionType\": 1, \"questionId\": \"3.1_CardinalityA\", \"learnToolsVersion\": \"0.3.4\", \"failureMessage\": \"\", \"exceptionClass\": \"\", \"trace\": \"\"}}, \"*\")"
      ],
      "text/plain": [
       "<IPython.core.display.Javascript object>"
      ]
     },
     "metadata": {},
     "output_type": "display_data"
    },
    {
     "data": {
      "text/markdown": [
       "<span style=\"color:#33cc33\">Correct</span>"
      ],
      "text/plain": [
       "Correct"
      ]
     },
     "metadata": {},
     "output_type": "display_data"
    }
   ],
   "source": [
    "# Fill in the line below: How many categorical variables in the training data\n",
    "# have cardinality greater than 10?\n",
    "high_cardinality_numcols = len([col for col in X_train.columns if len(set(X_train[col]))>=10 and X_train[col].dtype=='object'])\n",
    "\n",
    "# Fill in the line below: How many columns are needed to one-hot encode the \n",
    "# 'Neighborhood' variable in the training data?\n",
    "print(set(X_train['Neighborhood']))\n",
    "num_cols_neighborhood = X_train['Neighborhood'].nunique()\n",
    "\n",
    "# Check your answers\n",
    "step_3.a.check()"
   ]
  },
  {
   "cell_type": "code",
   "execution_count": 18,
   "id": "f2134f33",
   "metadata": {
    "execution": {
     "iopub.execute_input": "2024-02-27T09:35:24.645431Z",
     "iopub.status.busy": "2024-02-27T09:35:24.644980Z",
     "iopub.status.idle": "2024-02-27T09:35:24.659937Z",
     "shell.execute_reply": "2024-02-27T09:35:24.658544Z"
    },
    "papermill": {
     "duration": 0.036935,
     "end_time": "2024-02-27T09:35:24.662507",
     "exception": false,
     "start_time": "2024-02-27T09:35:24.625572",
     "status": "completed"
    },
    "tags": []
   },
   "outputs": [
    {
     "data": {
      "application/javascript": [
       "parent.postMessage({\"jupyterEvent\": \"custom.exercise_interaction\", \"data\": {\"interactionType\": 2, \"questionType\": 1, \"questionId\": \"3.1_CardinalityA\", \"learnToolsVersion\": \"0.3.4\", \"valueTowardsCompletion\": 0.0, \"failureMessage\": \"\", \"exceptionClass\": \"\", \"trace\": \"\", \"outcomeType\": 4}}, \"*\")"
      ],
      "text/plain": [
       "<IPython.core.display.Javascript object>"
      ]
     },
     "metadata": {},
     "output_type": "display_data"
    },
    {
     "data": {
      "text/markdown": [
       "<span style=\"color:#3366cc\">Hint:</span> To one-hot encode a variable, we need one column for each unique entry."
      ],
      "text/plain": [
       "Hint: To one-hot encode a variable, we need one column for each unique entry."
      ]
     },
     "metadata": {},
     "output_type": "display_data"
    },
    {
     "data": {
      "application/javascript": [
       "parent.postMessage({\"jupyterEvent\": \"custom.exercise_interaction\", \"data\": {\"interactionType\": 3, \"questionType\": 1, \"questionId\": \"3.1_CardinalityA\", \"learnToolsVersion\": \"0.3.4\", \"valueTowardsCompletion\": 0.0, \"failureMessage\": \"\", \"exceptionClass\": \"\", \"trace\": \"\", \"outcomeType\": 4}}, \"*\")"
      ],
      "text/plain": [
       "<IPython.core.display.Javascript object>"
      ]
     },
     "metadata": {},
     "output_type": "display_data"
    },
    {
     "data": {
      "text/markdown": [
       "<span style=\"color:#33cc99\">Solution:</span> \n",
       "```python\n",
       "# How many categorical variables in the training data\n",
       "# have cardinality greater than 10?\n",
       "high_cardinality_numcols = 3\n",
       "\n",
       "# How many columns are needed to one-hot encode the\n",
       "# 'Neighborhood' variable in the training data?\n",
       "num_cols_neighborhood = 25\n",
       "\n",
       "```"
      ],
      "text/plain": [
       "Solution: \n",
       "```python\n",
       "# How many categorical variables in the training data\n",
       "# have cardinality greater than 10?\n",
       "high_cardinality_numcols = 3\n",
       "\n",
       "# How many columns are needed to one-hot encode the\n",
       "# 'Neighborhood' variable in the training data?\n",
       "num_cols_neighborhood = 25\n",
       "\n",
       "```"
      ]
     },
     "metadata": {},
     "output_type": "display_data"
    }
   ],
   "source": [
    "# Lines below will give you a hint or solution code\n",
    "step_3.a.hint()\n",
    "step_3.a.solution()"
   ]
  },
  {
   "cell_type": "markdown",
   "id": "2bc79e9e",
   "metadata": {
    "papermill": {
     "duration": 0.019373,
     "end_time": "2024-02-27T09:35:24.700892",
     "exception": false,
     "start_time": "2024-02-27T09:35:24.681519",
     "status": "completed"
    },
    "tags": []
   },
   "source": [
    "### Part B\n",
    "\n",
    "For large datasets with many rows, one-hot encoding can greatly expand the size of the dataset.  For this reason, we typically will only one-hot encode columns with relatively low cardinality.  Then, high cardinality columns can either be dropped from the dataset, or we can use ordinal encoding.\n",
    "\n",
    "As an example, consider a dataset with 10,000 rows, and containing one categorical column with 100 unique entries.  \n",
    "- If this column is replaced with the corresponding one-hot encoding, how many entries are added to the dataset?  \n",
    "- If we instead replace the column with the ordinal encoding, how many entries are added?  \n",
    "\n",
    "Use your answers to fill in the lines below."
   ]
  },
  {
   "cell_type": "code",
   "execution_count": 19,
   "id": "0c7ee17d",
   "metadata": {
    "execution": {
     "iopub.execute_input": "2024-02-27T09:35:24.742012Z",
     "iopub.status.busy": "2024-02-27T09:35:24.741274Z",
     "iopub.status.idle": "2024-02-27T09:35:24.751146Z",
     "shell.execute_reply": "2024-02-27T09:35:24.749793Z"
    },
    "papermill": {
     "duration": 0.034088,
     "end_time": "2024-02-27T09:35:24.754252",
     "exception": false,
     "start_time": "2024-02-27T09:35:24.720164",
     "status": "completed"
    },
    "tags": []
   },
   "outputs": [
    {
     "data": {
      "application/javascript": [
       "parent.postMessage({\"jupyterEvent\": \"custom.exercise_interaction\", \"data\": {\"outcomeType\": 1, \"valueTowardsCompletion\": 0.5, \"interactionType\": 1, \"questionType\": 1, \"questionId\": \"3.2_CardinalityB\", \"learnToolsVersion\": \"0.3.4\", \"failureMessage\": \"\", \"exceptionClass\": \"\", \"trace\": \"\"}}, \"*\")"
      ],
      "text/plain": [
       "<IPython.core.display.Javascript object>"
      ]
     },
     "metadata": {},
     "output_type": "display_data"
    },
    {
     "data": {
      "text/markdown": [
       "<span style=\"color:#33cc33\">Correct</span>"
      ],
      "text/plain": [
       "Correct"
      ]
     },
     "metadata": {},
     "output_type": "display_data"
    }
   ],
   "source": [
    "# Fill in the line below: How many entries are added to the dataset by \n",
    "# replacing the column with a one-hot encoding?\n",
    "OH_entries_added = 10000*99\n",
    "\n",
    "# Fill in the line below: How many entries are added to the dataset by\n",
    "# replacing the column with an ordinal encoding?\n",
    "label_entries_added = 0\n",
    "\n",
    "# Check your answers\n",
    "step_3.b.check()"
   ]
  },
  {
   "cell_type": "code",
   "execution_count": 20,
   "id": "3ed68074",
   "metadata": {
    "execution": {
     "iopub.execute_input": "2024-02-27T09:35:24.793599Z",
     "iopub.status.busy": "2024-02-27T09:35:24.793160Z",
     "iopub.status.idle": "2024-02-27T09:35:24.798420Z",
     "shell.execute_reply": "2024-02-27T09:35:24.797125Z"
    },
    "papermill": {
     "duration": 0.027361,
     "end_time": "2024-02-27T09:35:24.800753",
     "exception": false,
     "start_time": "2024-02-27T09:35:24.773392",
     "status": "completed"
    },
    "tags": []
   },
   "outputs": [],
   "source": [
    "# Lines below will give you a hint or solution code\n",
    "#step_3.b.hint()\n",
    "#step_3.b.solution()"
   ]
  },
  {
   "cell_type": "markdown",
   "id": "982d2bb7",
   "metadata": {
    "papermill": {
     "duration": 0.018513,
     "end_time": "2024-02-27T09:35:24.837535",
     "exception": false,
     "start_time": "2024-02-27T09:35:24.819022",
     "status": "completed"
    },
    "tags": []
   },
   "source": [
    "Next, you'll experiment with one-hot encoding.  But, instead of encoding all of the categorical variables in the dataset, you'll only create a one-hot encoding for columns with cardinality less than 10.\n",
    "\n",
    "Run the code cell below without changes to set `low_cardinality_cols` to a Python list containing the columns that will be one-hot encoded.  Likewise, `high_cardinality_cols` contains a list of categorical columns that will be dropped from the dataset."
   ]
  },
  {
   "cell_type": "code",
   "execution_count": 21,
   "id": "3021c617",
   "metadata": {
    "execution": {
     "iopub.execute_input": "2024-02-27T09:35:24.878359Z",
     "iopub.status.busy": "2024-02-27T09:35:24.877882Z",
     "iopub.status.idle": "2024-02-27T09:35:24.891960Z",
     "shell.execute_reply": "2024-02-27T09:35:24.890902Z"
    },
    "papermill": {
     "duration": 0.038013,
     "end_time": "2024-02-27T09:35:24.895072",
     "exception": false,
     "start_time": "2024-02-27T09:35:24.857059",
     "status": "completed"
    },
    "tags": []
   },
   "outputs": [
    {
     "name": "stdout",
     "output_type": "stream",
     "text": [
      "Categorical columns that will be one-hot encoded: ['MSZoning', 'Street', 'LotShape', 'LandContour', 'Utilities', 'LotConfig', 'LandSlope', 'Condition1', 'Condition2', 'BldgType', 'HouseStyle', 'RoofStyle', 'RoofMatl', 'ExterQual', 'ExterCond', 'Foundation', 'Heating', 'HeatingQC', 'CentralAir', 'KitchenQual', 'Functional', 'PavedDrive', 'SaleType', 'SaleCondition']\n",
      "\n",
      "Categorical columns that will be dropped from the dataset: ['Exterior2nd', 'Exterior1st', 'Neighborhood']\n"
     ]
    }
   ],
   "source": [
    "# Columns that will be one-hot encoded\n",
    "low_cardinality_cols = [col for col in object_cols if X_train[col].nunique() < 10]\n",
    "\n",
    "# Columns that will be dropped from the dataset\n",
    "high_cardinality_cols = list(set(object_cols)-set(low_cardinality_cols))\n",
    "\n",
    "print('Categorical columns that will be one-hot encoded:', low_cardinality_cols)\n",
    "print('\\nCategorical columns that will be dropped from the dataset:', high_cardinality_cols)"
   ]
  },
  {
   "cell_type": "markdown",
   "id": "a373d7f6",
   "metadata": {
    "papermill": {
     "duration": 0.018017,
     "end_time": "2024-02-27T09:35:24.931562",
     "exception": false,
     "start_time": "2024-02-27T09:35:24.913545",
     "status": "completed"
    },
    "tags": []
   },
   "source": [
    "# Step 4: One-hot encoding\n",
    "\n",
    "Use the next code cell to one-hot encode the data in `X_train` and `X_valid`.  Set the preprocessed DataFrames to `OH_X_train` and `OH_X_valid`, respectively.  \n",
    "- The full list of categorical columns in the dataset can be found in the Python list `object_cols`.\n",
    "- You should only one-hot encode the categorical columns in `low_cardinality_cols`.  All other categorical columns should be dropped from the dataset. "
   ]
  },
  {
   "cell_type": "code",
   "execution_count": 22,
   "id": "a1194a2b",
   "metadata": {
    "execution": {
     "iopub.execute_input": "2024-02-27T09:35:24.970409Z",
     "iopub.status.busy": "2024-02-27T09:35:24.969978Z",
     "iopub.status.idle": "2024-02-27T09:35:27.157981Z",
     "shell.execute_reply": "2024-02-27T09:35:27.156817Z"
    },
    "papermill": {
     "duration": 2.21079,
     "end_time": "2024-02-27T09:35:27.160688",
     "exception": false,
     "start_time": "2024-02-27T09:35:24.949898",
     "status": "completed"
    },
    "tags": []
   },
   "outputs": [
    {
     "name": "stdout",
     "output_type": "stream",
     "text": [
      "MAE from Approach 3 (One-Hot Encoding):\n"
     ]
    },
    {
     "name": "stderr",
     "output_type": "stream",
     "text": [
      "/opt/conda/lib/python3.10/site-packages/sklearn/preprocessing/_encoders.py:868: FutureWarning: `sparse` was renamed to `sparse_output` in version 1.2 and will be removed in 1.4. `sparse_output` is ignored unless you leave `sparse` to its default value.\n",
      "  warnings.warn(\n"
     ]
    },
    {
     "name": "stdout",
     "output_type": "stream",
     "text": [
      "17525.345719178084\n"
     ]
    },
    {
     "data": {
      "application/javascript": [
       "parent.postMessage({\"jupyterEvent\": \"custom.exercise_interaction\", \"data\": {\"outcomeType\": 1, \"valueTowardsCompletion\": 0.5, \"interactionType\": 1, \"questionType\": 2, \"questionId\": \"4_OneHot\", \"learnToolsVersion\": \"0.3.4\", \"failureMessage\": \"\", \"exceptionClass\": \"\", \"trace\": \"\"}}, \"*\")"
      ],
      "text/plain": [
       "<IPython.core.display.Javascript object>"
      ]
     },
     "metadata": {},
     "output_type": "display_data"
    },
    {
     "data": {
      "text/markdown": [
       "<span style=\"color:#33cc33\">Correct</span>"
      ],
      "text/plain": [
       "Correct"
      ]
     },
     "metadata": {},
     "output_type": "display_data"
    }
   ],
   "source": [
    "from sklearn.preprocessing import OneHotEncoder\n",
    "from sklearn.impute import SimpleImputer\n",
    "\n",
    "\n",
    "# Use as many lines of code as you need!\n",
    "OH_encoder = OneHotEncoder(handle_unknown='ignore', sparse=False)\n",
    "OH_cols_train = pd.DataFrame(OH_encoder.fit_transform(X_train[low_cardinality_cols]))\n",
    "OH_cols_valid = pd.DataFrame(OH_encoder.transform(X_valid[low_cardinality_cols]))\n",
    "OH_cols_test = pd.DataFrame(OH_encoder.transform(X_test[low_cardinality_cols]))\n",
    "\n",
    "# One-hot encoding removed index; put it back\n",
    "OH_cols_train.index = X_train.index\n",
    "OH_cols_valid.index = X_valid.index\n",
    "OH_cols_test.index = X_test.index\n",
    "\n",
    "\n",
    "# Remove categorical columns (will replace with one-hot encoding)\n",
    "num_X_train = X_train.drop(object_cols, axis=1)\n",
    "num_X_valid = X_valid.drop(object_cols, axis=1)\n",
    "num_X_test = X_test.drop(object_cols, axis=1)\n",
    "\n",
    "# Add one-hot encoded columns to numerical features\n",
    "OH_X_train = pd.concat([num_X_train, OH_cols_train], axis=1)\n",
    "OH_X_valid = pd.concat([num_X_valid, OH_cols_valid], axis=1)\n",
    "OH_X_test = pd.concat([num_X_test, OH_cols_test], axis=1)\n",
    "\n",
    "# Ensure all columns have string type\n",
    "OH_X_train.columns = OH_X_train.columns.astype(str)\n",
    "OH_X_valid.columns = OH_X_valid.columns.astype(str)\n",
    "OH_X_test.columns = OH_X_test.columns.astype(str)\n",
    "\n",
    "\n",
    "print(\"MAE from Approach 3 (One-Hot Encoding):\") \n",
    "print(score_dataset(OH_X_train, OH_X_valid, y_train, y_valid))\n",
    "\n",
    "# Check your answer\n",
    "step_4.check()"
   ]
  },
  {
   "cell_type": "code",
   "execution_count": 23,
   "id": "8e360d4f",
   "metadata": {
    "execution": {
     "iopub.execute_input": "2024-02-27T09:35:27.205147Z",
     "iopub.status.busy": "2024-02-27T09:35:27.204692Z",
     "iopub.status.idle": "2024-02-27T09:35:27.209876Z",
     "shell.execute_reply": "2024-02-27T09:35:27.208605Z"
    },
    "papermill": {
     "duration": 0.031442,
     "end_time": "2024-02-27T09:35:27.212496",
     "exception": false,
     "start_time": "2024-02-27T09:35:27.181054",
     "status": "completed"
    },
    "tags": []
   },
   "outputs": [],
   "source": [
    "# Lines below will give you a hint or solution code\n",
    "#step_4.hint()\n",
    "#step_4.solution()"
   ]
  },
  {
   "cell_type": "markdown",
   "id": "139ddfc7",
   "metadata": {
    "papermill": {
     "duration": 0.018731,
     "end_time": "2024-02-27T09:35:27.250434",
     "exception": false,
     "start_time": "2024-02-27T09:35:27.231703",
     "status": "completed"
    },
    "tags": []
   },
   "source": [
    "Run the next code cell to get the MAE for this approach."
   ]
  },
  {
   "cell_type": "code",
   "execution_count": 24,
   "id": "e4c78a3b",
   "metadata": {
    "execution": {
     "iopub.execute_input": "2024-02-27T09:35:27.292080Z",
     "iopub.status.busy": "2024-02-27T09:35:27.291643Z",
     "iopub.status.idle": "2024-02-27T09:35:29.399685Z",
     "shell.execute_reply": "2024-02-27T09:35:29.398162Z"
    },
    "papermill": {
     "duration": 2.132561,
     "end_time": "2024-02-27T09:35:29.402614",
     "exception": false,
     "start_time": "2024-02-27T09:35:27.270053",
     "status": "completed"
    },
    "tags": []
   },
   "outputs": [
    {
     "name": "stdout",
     "output_type": "stream",
     "text": [
      "MAE from Approach 3 (One-Hot Encoding):\n",
      "17525.345719178084\n"
     ]
    }
   ],
   "source": [
    "print(\"MAE from Approach 3 (One-Hot Encoding):\") \n",
    "print(score_dataset(OH_X_train, OH_X_valid, y_train, y_valid))"
   ]
  },
  {
   "cell_type": "code",
   "execution_count": 25,
   "id": "b83d23f8",
   "metadata": {
    "execution": {
     "iopub.execute_input": "2024-02-27T09:35:29.442992Z",
     "iopub.status.busy": "2024-02-27T09:35:29.442560Z",
     "iopub.status.idle": "2024-02-27T09:35:31.695680Z",
     "shell.execute_reply": "2024-02-27T09:35:31.694381Z"
    },
    "papermill": {
     "duration": 2.277464,
     "end_time": "2024-02-27T09:35:31.699259",
     "exception": false,
     "start_time": "2024-02-27T09:35:29.421795",
     "status": "completed"
    },
    "tags": []
   },
   "outputs": [
    {
     "name": "stdout",
     "output_type": "stream",
     "text": [
      "(1168, 155)\n",
      "(1459, 155)\n"
     ]
    },
    {
     "name": "stderr",
     "output_type": "stream",
     "text": [
      "/opt/conda/lib/python3.10/site-packages/sklearn/base.py:439: UserWarning: X does not have valid feature names, but RandomForestRegressor was fitted with feature names\n",
      "  warnings.warn(\n"
     ]
    }
   ],
   "source": [
    "# (Optional) Your code here\n",
    "my_imputer = SimpleImputer(strategy='most_frequent') # Your code here\n",
    "\n",
    "\n",
    "OH_X_test = pd.DataFrame(my_imputer.fit_transform(OH_X_test))\n",
    "model = RandomForestRegressor(n_estimators=100, random_state=0)\n",
    "model.fit(OH_X_train, y_train)\n",
    "print(OH_X_train.shape)\n",
    "print(OH_X_test.shape)\n",
    "# Fill in the line below: get test predictions\n",
    "preds_test = model.predict(OH_X_test)\n",
    "# Save test predictions to file\n",
    "output = pd.DataFrame({'Id': X_test.index,\n",
    "                       'SalePrice': preds_test})\n",
    "output.to_csv('submission.csv', index=False)"
   ]
  },
  {
   "cell_type": "code",
   "execution_count": null,
   "id": "9c9449bf",
   "metadata": {
    "execution": {
     "iopub.execute_input": "2024-02-27T09:34:07.341815Z",
     "iopub.status.busy": "2024-02-27T09:34:07.341372Z",
     "iopub.status.idle": "2024-02-27T09:34:07.382608Z",
     "shell.execute_reply": "2024-02-27T09:34:07.380756Z",
     "shell.execute_reply.started": "2024-02-27T09:34:07.341782Z"
    },
    "papermill": {
     "duration": 0.018998,
     "end_time": "2024-02-27T09:35:31.741878",
     "exception": false,
     "start_time": "2024-02-27T09:35:31.722880",
     "status": "completed"
    },
    "tags": []
   },
   "outputs": [],
   "source": []
  },
  {
   "cell_type": "markdown",
   "id": "2eb4d90d",
   "metadata": {
    "papermill": {
     "duration": 0.018832,
     "end_time": "2024-02-27T09:35:31.780068",
     "exception": false,
     "start_time": "2024-02-27T09:35:31.761236",
     "status": "completed"
    },
    "tags": []
   },
   "source": [
    "# Generate test predictions and submit your results\n",
    "\n",
    "After you complete Step 4, if you'd like to use what you've learned to submit your results to the leaderboard, you'll need to preprocess the test data before generating predictions.\n",
    "\n",
    "**This step is completely optional, and you do not need to submit results to the leaderboard to successfully complete the exercise.**\n",
    "\n",
    "Check out the previous exercise if you need help with remembering how to [join the competition](https://www.kaggle.com/c/home-data-for-ml-course) or save your results to CSV.  Once you have generated a file with your results, follow the instructions below:\n",
    "1. Begin by clicking on the **Save Version** button in the top right corner of the window.  This will generate a pop-up window.  \n",
    "2. Ensure that the **Save and Run All** option is selected, and then click on the **Save** button.\n",
    "3. This generates a window in the bottom left corner of the notebook.  After it has finished running, click on the number to the right of the **Save Version** button.  This pulls up a list of versions on the right of the screen.  Click on the ellipsis **(...)** to the right of the most recent version, and select **Open in Viewer**.  This brings you into view mode of the same page. You will need to scroll down to get back to these instructions.\n",
    "4. Click on the **Data** tab near the top of the screen.  Then, click on the file you would like to submit, and click on the **Submit** button to submit your results to the leaderboard.\n",
    "\n",
    "You have now successfully submitted to the competition!\n",
    "\n",
    "If you want to keep working to improve your performance, select the **Edit** button in the top right of the screen. Then you can change your code and repeat the process. There's a lot of room to improve, and you will climb up the leaderboard as you work.\n"
   ]
  },
  {
   "cell_type": "code",
   "execution_count": null,
   "id": "8ed66b00",
   "metadata": {
    "execution": {
     "iopub.execute_input": "2024-02-27T09:20:58.025926Z",
     "iopub.status.busy": "2024-02-27T09:20:58.025212Z",
     "iopub.status.idle": "2024-02-27T09:21:00.093717Z",
     "shell.execute_reply": "2024-02-27T09:21:00.091946Z",
     "shell.execute_reply.started": "2024-02-27T09:20:58.025883Z"
    },
    "papermill": {
     "duration": 0.018935,
     "end_time": "2024-02-27T09:35:31.818185",
     "exception": false,
     "start_time": "2024-02-27T09:35:31.799250",
     "status": "completed"
    },
    "tags": []
   },
   "outputs": [],
   "source": []
  },
  {
   "cell_type": "markdown",
   "id": "1860732f",
   "metadata": {
    "papermill": {
     "duration": 0.019191,
     "end_time": "2024-02-27T09:35:31.857775",
     "exception": false,
     "start_time": "2024-02-27T09:35:31.838584",
     "status": "completed"
    },
    "tags": []
   },
   "source": [
    "# Keep going\n",
    "\n",
    "With missing value handling and categorical encoding, your modeling process is getting complex. This complexity gets worse when you want to save your model to use in the future. The key to managing this complexity is something called **pipelines**. \n",
    "\n",
    "**[Learn to use pipelines](https://www.kaggle.com/alexisbcook/pipelines)** to preprocess datasets with categorical variables, missing values and any other messiness your data throws at you."
   ]
  },
  {
   "cell_type": "markdown",
   "id": "c645b327",
   "metadata": {
    "papermill": {
     "duration": 0.018989,
     "end_time": "2024-02-27T09:35:31.896021",
     "exception": false,
     "start_time": "2024-02-27T09:35:31.877032",
     "status": "completed"
    },
    "tags": []
   },
   "source": [
    "---\n",
    "\n",
    "\n",
    "\n",
    "\n",
    "*Have questions or comments? Visit the [course discussion forum](https://www.kaggle.com/learn/intermediate-machine-learning/discussion) to chat with other learners.*"
   ]
  }
 ],
 "metadata": {
  "kaggle": {
   "accelerator": "none",
   "dataSources": [
    {
     "databundleVersionId": 111096,
     "sourceId": 10211,
     "sourceType": "competition"
    }
   ],
   "isGpuEnabled": false,
   "isInternetEnabled": false,
   "language": "python",
   "sourceType": "notebook"
  },
  "kernelspec": {
   "display_name": "Python 3",
   "language": "python",
   "name": "python3"
  },
  "language_info": {
   "codemirror_mode": {
    "name": "ipython",
    "version": 3
   },
   "file_extension": ".py",
   "mimetype": "text/x-python",
   "name": "python",
   "nbconvert_exporter": "python",
   "pygments_lexer": "ipython3",
   "version": "3.10.13"
  },
  "papermill": {
   "default_parameters": {},
   "duration": 21.279176,
   "end_time": "2024-02-27T09:35:34.711027",
   "environment_variables": {},
   "exception": null,
   "input_path": "__notebook__.ipynb",
   "output_path": "__notebook__.ipynb",
   "parameters": {},
   "start_time": "2024-02-27T09:35:13.431851",
   "version": "2.5.0"
  }
 },
 "nbformat": 4,
 "nbformat_minor": 5
}
