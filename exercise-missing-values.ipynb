{
 "cells": [
  {
   "cell_type": "markdown",
   "id": "85a99d7e",
   "metadata": {
    "papermill": {
     "duration": 0.01348,
     "end_time": "2024-02-26T09:15:21.272335",
     "exception": false,
     "start_time": "2024-02-26T09:15:21.258855",
     "status": "completed"
    },
    "tags": []
   },
   "source": [
    "**This notebook is an exercise in the [Intermediate Machine Learning](https://www.kaggle.com/learn/intermediate-machine-learning) course.  You can reference the tutorial at [this link](https://www.kaggle.com/alexisbcook/missing-values).**\n",
    "\n",
    "---\n"
   ]
  },
  {
   "cell_type": "markdown",
   "id": "71003268",
   "metadata": {
    "papermill": {
     "duration": 0.013085,
     "end_time": "2024-02-26T09:15:21.298414",
     "exception": false,
     "start_time": "2024-02-26T09:15:21.285329",
     "status": "completed"
    },
    "tags": []
   },
   "source": [
    "Now it's your turn to test your new knowledge of **missing values** handling. You'll probably find it makes a big difference.\n",
    "\n",
    "# Setup\n",
    "\n",
    "The questions will give you feedback on your work. Run the following cell to set up the feedback system."
   ]
  },
  {
   "cell_type": "code",
   "execution_count": 1,
   "id": "e42fc48e",
   "metadata": {
    "execution": {
     "iopub.execute_input": "2024-02-26T09:15:21.325165Z",
     "iopub.status.busy": "2024-02-26T09:15:21.324721Z",
     "iopub.status.idle": "2024-02-26T09:15:22.440546Z",
     "shell.execute_reply": "2024-02-26T09:15:22.439197Z"
    },
    "papermill": {
     "duration": 1.133184,
     "end_time": "2024-02-26T09:15:22.443869",
     "exception": false,
     "start_time": "2024-02-26T09:15:21.310685",
     "status": "completed"
    },
    "tags": []
   },
   "outputs": [
    {
     "name": "stdout",
     "output_type": "stream",
     "text": [
      "Setup Complete\n"
     ]
    }
   ],
   "source": [
    "# Set up code checking\n",
    "import os\n",
    "if not os.path.exists(\"../input/train.csv\"):\n",
    "    os.symlink(\"../input/home-data-for-ml-course/train.csv\", \"../input/train.csv\")  \n",
    "    os.symlink(\"../input/home-data-for-ml-course/test.csv\", \"../input/test.csv\") \n",
    "from learntools.core import binder\n",
    "binder.bind(globals())\n",
    "from learntools.ml_intermediate.ex2 import *\n",
    "print(\"Setup Complete\")"
   ]
  },
  {
   "cell_type": "markdown",
   "id": "3d6957e0",
   "metadata": {
    "papermill": {
     "duration": 0.012748,
     "end_time": "2024-02-26T09:15:22.469897",
     "exception": false,
     "start_time": "2024-02-26T09:15:22.457149",
     "status": "completed"
    },
    "tags": []
   },
   "source": [
    "In this exercise, you will work with data from the [Housing Prices Competition for Kaggle Learn Users](https://www.kaggle.com/c/home-data-for-ml-course). \n",
    "\n",
    "![Ames Housing dataset image](https://storage.googleapis.com/kaggle-media/learn/images/lTJVG4e.png)\n",
    "\n",
    "Run the next code cell without changes to load the training and validation sets in `X_train`, `X_valid`, `y_train`, and `y_valid`.  The test set is loaded in `X_test`."
   ]
  },
  {
   "cell_type": "code",
   "execution_count": 2,
   "id": "2faa9065",
   "metadata": {
    "execution": {
     "iopub.execute_input": "2024-02-26T09:15:22.497380Z",
     "iopub.status.busy": "2024-02-26T09:15:22.496694Z",
     "iopub.status.idle": "2024-02-26T09:15:24.106348Z",
     "shell.execute_reply": "2024-02-26T09:15:24.105177Z"
    },
    "papermill": {
     "duration": 1.627014,
     "end_time": "2024-02-26T09:15:24.109557",
     "exception": false,
     "start_time": "2024-02-26T09:15:22.482543",
     "status": "completed"
    },
    "tags": []
   },
   "outputs": [],
   "source": [
    "import pandas as pd\n",
    "from sklearn.model_selection import train_test_split\n",
    "\n",
    "# Read the data\n",
    "X_full = pd.read_csv('../input/train.csv', index_col='Id')\n",
    "X_test_full = pd.read_csv('../input/test.csv', index_col='Id')\n",
    "\n",
    "# Remove rows with missing target, separate target from predictors\n",
    "X_full.dropna(axis=0, subset=['SalePrice'], inplace=True)\n",
    "y = X_full.SalePrice\n",
    "X_full.drop(['SalePrice'], axis=1, inplace=True)\n",
    "\n",
    "# To keep things simple, we'll use only numerical predictors\n",
    "X = X_full.select_dtypes(exclude=['object'])\n",
    "X_test = X_test_full.select_dtypes(exclude=['object'])\n",
    "\n",
    "# Break off validation set from training data\n",
    "X_train, X_valid, y_train, y_valid = train_test_split(X, y, train_size=0.8, test_size=0.2,\n",
    "                                                      random_state=0)"
   ]
  },
  {
   "cell_type": "markdown",
   "id": "ee530a13",
   "metadata": {
    "papermill": {
     "duration": 0.012503,
     "end_time": "2024-02-26T09:15:24.134696",
     "exception": false,
     "start_time": "2024-02-26T09:15:24.122193",
     "status": "completed"
    },
    "tags": []
   },
   "source": [
    "Use the next code cell to print the first five rows of the data."
   ]
  },
  {
   "cell_type": "code",
   "execution_count": 3,
   "id": "32878e27",
   "metadata": {
    "execution": {
     "iopub.execute_input": "2024-02-26T09:15:24.165223Z",
     "iopub.status.busy": "2024-02-26T09:15:24.164730Z",
     "iopub.status.idle": "2024-02-26T09:15:24.198181Z",
     "shell.execute_reply": "2024-02-26T09:15:24.196816Z"
    },
    "papermill": {
     "duration": 0.051078,
     "end_time": "2024-02-26T09:15:24.201200",
     "exception": false,
     "start_time": "2024-02-26T09:15:24.150122",
     "status": "completed"
    },
    "tags": []
   },
   "outputs": [
    {
     "data": {
      "text/html": [
       "<div>\n",
       "<style scoped>\n",
       "    .dataframe tbody tr th:only-of-type {\n",
       "        vertical-align: middle;\n",
       "    }\n",
       "\n",
       "    .dataframe tbody tr th {\n",
       "        vertical-align: top;\n",
       "    }\n",
       "\n",
       "    .dataframe thead th {\n",
       "        text-align: right;\n",
       "    }\n",
       "</style>\n",
       "<table border=\"1\" class=\"dataframe\">\n",
       "  <thead>\n",
       "    <tr style=\"text-align: right;\">\n",
       "      <th></th>\n",
       "      <th>MSSubClass</th>\n",
       "      <th>LotFrontage</th>\n",
       "      <th>LotArea</th>\n",
       "      <th>OverallQual</th>\n",
       "      <th>OverallCond</th>\n",
       "      <th>YearBuilt</th>\n",
       "      <th>YearRemodAdd</th>\n",
       "      <th>MasVnrArea</th>\n",
       "      <th>BsmtFinSF1</th>\n",
       "      <th>BsmtFinSF2</th>\n",
       "      <th>...</th>\n",
       "      <th>GarageArea</th>\n",
       "      <th>WoodDeckSF</th>\n",
       "      <th>OpenPorchSF</th>\n",
       "      <th>EnclosedPorch</th>\n",
       "      <th>3SsnPorch</th>\n",
       "      <th>ScreenPorch</th>\n",
       "      <th>PoolArea</th>\n",
       "      <th>MiscVal</th>\n",
       "      <th>MoSold</th>\n",
       "      <th>YrSold</th>\n",
       "    </tr>\n",
       "    <tr>\n",
       "      <th>Id</th>\n",
       "      <th></th>\n",
       "      <th></th>\n",
       "      <th></th>\n",
       "      <th></th>\n",
       "      <th></th>\n",
       "      <th></th>\n",
       "      <th></th>\n",
       "      <th></th>\n",
       "      <th></th>\n",
       "      <th></th>\n",
       "      <th></th>\n",
       "      <th></th>\n",
       "      <th></th>\n",
       "      <th></th>\n",
       "      <th></th>\n",
       "      <th></th>\n",
       "      <th></th>\n",
       "      <th></th>\n",
       "      <th></th>\n",
       "      <th></th>\n",
       "      <th></th>\n",
       "    </tr>\n",
       "  </thead>\n",
       "  <tbody>\n",
       "    <tr>\n",
       "      <th>619</th>\n",
       "      <td>20</td>\n",
       "      <td>90.0</td>\n",
       "      <td>11694</td>\n",
       "      <td>9</td>\n",
       "      <td>5</td>\n",
       "      <td>2007</td>\n",
       "      <td>2007</td>\n",
       "      <td>452.0</td>\n",
       "      <td>48</td>\n",
       "      <td>0</td>\n",
       "      <td>...</td>\n",
       "      <td>774</td>\n",
       "      <td>0</td>\n",
       "      <td>108</td>\n",
       "      <td>0</td>\n",
       "      <td>0</td>\n",
       "      <td>260</td>\n",
       "      <td>0</td>\n",
       "      <td>0</td>\n",
       "      <td>7</td>\n",
       "      <td>2007</td>\n",
       "    </tr>\n",
       "    <tr>\n",
       "      <th>871</th>\n",
       "      <td>20</td>\n",
       "      <td>60.0</td>\n",
       "      <td>6600</td>\n",
       "      <td>5</td>\n",
       "      <td>5</td>\n",
       "      <td>1962</td>\n",
       "      <td>1962</td>\n",
       "      <td>0.0</td>\n",
       "      <td>0</td>\n",
       "      <td>0</td>\n",
       "      <td>...</td>\n",
       "      <td>308</td>\n",
       "      <td>0</td>\n",
       "      <td>0</td>\n",
       "      <td>0</td>\n",
       "      <td>0</td>\n",
       "      <td>0</td>\n",
       "      <td>0</td>\n",
       "      <td>0</td>\n",
       "      <td>8</td>\n",
       "      <td>2009</td>\n",
       "    </tr>\n",
       "    <tr>\n",
       "      <th>93</th>\n",
       "      <td>30</td>\n",
       "      <td>80.0</td>\n",
       "      <td>13360</td>\n",
       "      <td>5</td>\n",
       "      <td>7</td>\n",
       "      <td>1921</td>\n",
       "      <td>2006</td>\n",
       "      <td>0.0</td>\n",
       "      <td>713</td>\n",
       "      <td>0</td>\n",
       "      <td>...</td>\n",
       "      <td>432</td>\n",
       "      <td>0</td>\n",
       "      <td>0</td>\n",
       "      <td>44</td>\n",
       "      <td>0</td>\n",
       "      <td>0</td>\n",
       "      <td>0</td>\n",
       "      <td>0</td>\n",
       "      <td>8</td>\n",
       "      <td>2009</td>\n",
       "    </tr>\n",
       "    <tr>\n",
       "      <th>818</th>\n",
       "      <td>20</td>\n",
       "      <td>NaN</td>\n",
       "      <td>13265</td>\n",
       "      <td>8</td>\n",
       "      <td>5</td>\n",
       "      <td>2002</td>\n",
       "      <td>2002</td>\n",
       "      <td>148.0</td>\n",
       "      <td>1218</td>\n",
       "      <td>0</td>\n",
       "      <td>...</td>\n",
       "      <td>857</td>\n",
       "      <td>150</td>\n",
       "      <td>59</td>\n",
       "      <td>0</td>\n",
       "      <td>0</td>\n",
       "      <td>0</td>\n",
       "      <td>0</td>\n",
       "      <td>0</td>\n",
       "      <td>7</td>\n",
       "      <td>2008</td>\n",
       "    </tr>\n",
       "    <tr>\n",
       "      <th>303</th>\n",
       "      <td>20</td>\n",
       "      <td>118.0</td>\n",
       "      <td>13704</td>\n",
       "      <td>7</td>\n",
       "      <td>5</td>\n",
       "      <td>2001</td>\n",
       "      <td>2002</td>\n",
       "      <td>150.0</td>\n",
       "      <td>0</td>\n",
       "      <td>0</td>\n",
       "      <td>...</td>\n",
       "      <td>843</td>\n",
       "      <td>468</td>\n",
       "      <td>81</td>\n",
       "      <td>0</td>\n",
       "      <td>0</td>\n",
       "      <td>0</td>\n",
       "      <td>0</td>\n",
       "      <td>0</td>\n",
       "      <td>1</td>\n",
       "      <td>2006</td>\n",
       "    </tr>\n",
       "  </tbody>\n",
       "</table>\n",
       "<p>5 rows × 36 columns</p>\n",
       "</div>"
      ],
      "text/plain": [
       "     MSSubClass  LotFrontage  LotArea  OverallQual  OverallCond  YearBuilt  \\\n",
       "Id                                                                           \n",
       "619          20         90.0    11694            9            5       2007   \n",
       "871          20         60.0     6600            5            5       1962   \n",
       "93           30         80.0    13360            5            7       1921   \n",
       "818          20          NaN    13265            8            5       2002   \n",
       "303          20        118.0    13704            7            5       2001   \n",
       "\n",
       "     YearRemodAdd  MasVnrArea  BsmtFinSF1  BsmtFinSF2  ...  GarageArea  \\\n",
       "Id                                                     ...               \n",
       "619          2007       452.0          48           0  ...         774   \n",
       "871          1962         0.0           0           0  ...         308   \n",
       "93           2006         0.0         713           0  ...         432   \n",
       "818          2002       148.0        1218           0  ...         857   \n",
       "303          2002       150.0           0           0  ...         843   \n",
       "\n",
       "     WoodDeckSF  OpenPorchSF  EnclosedPorch  3SsnPorch  ScreenPorch  PoolArea  \\\n",
       "Id                                                                              \n",
       "619           0          108              0          0          260         0   \n",
       "871           0            0              0          0            0         0   \n",
       "93            0            0             44          0            0         0   \n",
       "818         150           59              0          0            0         0   \n",
       "303         468           81              0          0            0         0   \n",
       "\n",
       "     MiscVal  MoSold  YrSold  \n",
       "Id                            \n",
       "619        0       7    2007  \n",
       "871        0       8    2009  \n",
       "93         0       8    2009  \n",
       "818        0       7    2008  \n",
       "303        0       1    2006  \n",
       "\n",
       "[5 rows x 36 columns]"
      ]
     },
     "execution_count": 3,
     "metadata": {},
     "output_type": "execute_result"
    }
   ],
   "source": [
    "X_train.head()"
   ]
  },
  {
   "cell_type": "markdown",
   "id": "2c102fcc",
   "metadata": {
    "papermill": {
     "duration": 0.013176,
     "end_time": "2024-02-26T09:15:24.228161",
     "exception": false,
     "start_time": "2024-02-26T09:15:24.214985",
     "status": "completed"
    },
    "tags": []
   },
   "source": [
    "You can already see a few missing values in the first several rows.  In the next step, you'll obtain a more comprehensive understanding of the missing values in the dataset.\n",
    "\n",
    "# Step 1: Preliminary investigation\n",
    "\n",
    "Run the code cell below without changes."
   ]
  },
  {
   "cell_type": "code",
   "execution_count": 4,
   "id": "169c3bfa",
   "metadata": {
    "execution": {
     "iopub.execute_input": "2024-02-26T09:15:24.258623Z",
     "iopub.status.busy": "2024-02-26T09:15:24.258159Z",
     "iopub.status.idle": "2024-02-26T09:15:24.269129Z",
     "shell.execute_reply": "2024-02-26T09:15:24.267575Z"
    },
    "papermill": {
     "duration": 0.030127,
     "end_time": "2024-02-26T09:15:24.271860",
     "exception": false,
     "start_time": "2024-02-26T09:15:24.241733",
     "status": "completed"
    },
    "tags": []
   },
   "outputs": [
    {
     "name": "stdout",
     "output_type": "stream",
     "text": [
      "(1168, 36)\n",
      "1168\n",
      "LotFrontage    212\n",
      "MasVnrArea       6\n",
      "GarageYrBlt     58\n",
      "dtype: int64\n",
      "<class 'pandas.core.series.Series'>\n"
     ]
    }
   ],
   "source": [
    "# Shape of training data (num_rows, num_columns)\n",
    "print(X_train.shape)\n",
    "print(X_train.shape[0])\n",
    "\n",
    "# Number of missing values in each column of training data\n",
    "missing_val_count_by_column = (X_train.isnull().sum())\n",
    "\n",
    "print(missing_val_count_by_column[missing_val_count_by_column > 0])\n",
    "print(type(missing_val_count_by_column[missing_val_count_by_column > 0]))"
   ]
  },
  {
   "cell_type": "markdown",
   "id": "1447d280",
   "metadata": {
    "papermill": {
     "duration": 0.012581,
     "end_time": "2024-02-26T09:15:24.298266",
     "exception": false,
     "start_time": "2024-02-26T09:15:24.285685",
     "status": "completed"
    },
    "tags": []
   },
   "source": [
    "### Part A\n",
    "\n",
    "Use the above output to answer the questions below."
   ]
  },
  {
   "cell_type": "code",
   "execution_count": 5,
   "id": "617290ee",
   "metadata": {
    "execution": {
     "iopub.execute_input": "2024-02-26T09:15:24.326388Z",
     "iopub.status.busy": "2024-02-26T09:15:24.325859Z",
     "iopub.status.idle": "2024-02-26T09:15:24.339547Z",
     "shell.execute_reply": "2024-02-26T09:15:24.338187Z"
    },
    "papermill": {
     "duration": 0.031635,
     "end_time": "2024-02-26T09:15:24.343054",
     "exception": false,
     "start_time": "2024-02-26T09:15:24.311419",
     "status": "completed"
    },
    "tags": []
   },
   "outputs": [
    {
     "name": "stdout",
     "output_type": "stream",
     "text": [
      "276\n"
     ]
    },
    {
     "data": {
      "application/javascript": [
       "parent.postMessage({\"jupyterEvent\": \"custom.exercise_interaction\", \"data\": {\"outcomeType\": 1, \"valueTowardsCompletion\": 1.0, \"interactionType\": 1, \"questionType\": 1, \"questionId\": \"1.1_InvestigateEquality\", \"learnToolsVersion\": \"0.3.4\", \"failureMessage\": \"\", \"exceptionClass\": \"\", \"trace\": \"\"}}, \"*\")"
      ],
      "text/plain": [
       "<IPython.core.display.Javascript object>"
      ]
     },
     "metadata": {},
     "output_type": "display_data"
    },
    {
     "data": {
      "text/markdown": [
       "<span style=\"color:#33cc33\">Correct</span>"
      ],
      "text/plain": [
       "Correct"
      ]
     },
     "metadata": {},
     "output_type": "display_data"
    }
   ],
   "source": [
    "# Fill in the line below: How many rows are in the training data?\n",
    "num_rows = X_train.shape[0]\n",
    "\n",
    "# Fill in the line below: How many columns in the training data\n",
    "# have missing values?\n",
    "num_cols_with_missing = missing_val_count_by_column[missing_val_count_by_column > 0].count()\n",
    "\n",
    "# Fill in the line below: How many missing entries are contained in \n",
    "# all of the training data?\n",
    "tot_missing = missing_val_count_by_column[missing_val_count_by_column > 0].sum()\n",
    "print(tot_missing)\n",
    "# Check your answers\n",
    "step_1.a.check()"
   ]
  },
  {
   "cell_type": "code",
   "execution_count": 6,
   "id": "936f0af4",
   "metadata": {
    "execution": {
     "iopub.execute_input": "2024-02-26T09:15:24.373397Z",
     "iopub.status.busy": "2024-02-26T09:15:24.372935Z",
     "iopub.status.idle": "2024-02-26T09:15:24.383767Z",
     "shell.execute_reply": "2024-02-26T09:15:24.382440Z"
    },
    "papermill": {
     "duration": 0.028732,
     "end_time": "2024-02-26T09:15:24.386693",
     "exception": false,
     "start_time": "2024-02-26T09:15:24.357961",
     "status": "completed"
    },
    "tags": []
   },
   "outputs": [
    {
     "data": {
      "application/javascript": [
       "parent.postMessage({\"jupyterEvent\": \"custom.exercise_interaction\", \"data\": {\"interactionType\": 2, \"questionType\": 1, \"questionId\": \"1.1_InvestigateEquality\", \"learnToolsVersion\": \"0.3.4\", \"valueTowardsCompletion\": 0.0, \"failureMessage\": \"\", \"exceptionClass\": \"\", \"trace\": \"\", \"outcomeType\": 4}}, \"*\")"
      ],
      "text/plain": [
       "<IPython.core.display.Javascript object>"
      ]
     },
     "metadata": {},
     "output_type": "display_data"
    },
    {
     "data": {
      "text/markdown": [
       "<span style=\"color:#3366cc\">Hint:</span> Use the output of `X_train.shape` to get the number of rows and columns in the training data.  The `missing_val_count_by_column` Series has an entry for each column in the data, and the output above prints the number of missing entries for each column with at least one missing entry."
      ],
      "text/plain": [
       "Hint: Use the output of `X_train.shape` to get the number of rows and columns in the training data.  The `missing_val_count_by_column` Series has an entry for each column in the data, and the output above prints the number of missing entries for each column with at least one missing entry."
      ]
     },
     "metadata": {},
     "output_type": "display_data"
    }
   ],
   "source": [
    "# Lines below will give you a hint or solution code\n",
    "step_1.a.hint()\n",
    "#step_1.a.solution()"
   ]
  },
  {
   "cell_type": "markdown",
   "id": "00afd5c2",
   "metadata": {
    "papermill": {
     "duration": 0.013378,
     "end_time": "2024-02-26T09:15:24.414353",
     "exception": false,
     "start_time": "2024-02-26T09:15:24.400975",
     "status": "completed"
    },
    "tags": []
   },
   "source": [
    "### Part B\n",
    "Considering your answers above, what do you think is likely the best approach to dealing with the missing values?"
   ]
  },
  {
   "cell_type": "code",
   "execution_count": 7,
   "id": "d366827b",
   "metadata": {
    "execution": {
     "iopub.execute_input": "2024-02-26T09:15:24.444318Z",
     "iopub.status.busy": "2024-02-26T09:15:24.443811Z",
     "iopub.status.idle": "2024-02-26T09:15:24.454222Z",
     "shell.execute_reply": "2024-02-26T09:15:24.453099Z"
    },
    "papermill": {
     "duration": 0.028753,
     "end_time": "2024-02-26T09:15:24.456885",
     "exception": false,
     "start_time": "2024-02-26T09:15:24.428132",
     "status": "completed"
    },
    "tags": []
   },
   "outputs": [
    {
     "data": {
      "application/javascript": [
       "parent.postMessage({\"jupyterEvent\": \"custom.exercise_interaction\", \"data\": {\"outcomeType\": 1, \"valueTowardsCompletion\": 1.0, \"interactionType\": 1, \"questionType\": 4, \"questionId\": \"1.2_InvestigateThought\", \"learnToolsVersion\": \"0.3.4\", \"failureMessage\": \"\", \"exceptionClass\": \"\", \"trace\": \"\"}}, \"*\")"
      ],
      "text/plain": [
       "<IPython.core.display.Javascript object>"
      ]
     },
     "metadata": {},
     "output_type": "display_data"
    },
    {
     "data": {
      "text/markdown": [
       "<span style=\"color:#33cc33\">Correct:</span> \n",
       "\n",
       "Since there are relatively few missing entries in the data (the column with the greatest percentage of missing values is missing less than 20% of its entries), we can expect that dropping columns is unlikely to yield good results.  This is because we'd be throwing away a lot of valuable data, and so imputation will likely perform better."
      ],
      "text/plain": [
       "Correct: \n",
       "\n",
       "Since there are relatively few missing entries in the data (the column with the greatest percentage of missing values is missing less than 20% of its entries), we can expect that dropping columns is unlikely to yield good results.  This is because we'd be throwing away a lot of valuable data, and so imputation will likely perform better."
      ]
     },
     "metadata": {},
     "output_type": "display_data"
    }
   ],
   "source": [
    "# Check your answer (Run this code cell to receive credit!)\n",
    "step_1.b.check()"
   ]
  },
  {
   "cell_type": "code",
   "execution_count": 8,
   "id": "7cd26b65",
   "metadata": {
    "execution": {
     "iopub.execute_input": "2024-02-26T09:15:24.486803Z",
     "iopub.status.busy": "2024-02-26T09:15:24.486295Z",
     "iopub.status.idle": "2024-02-26T09:15:24.490924Z",
     "shell.execute_reply": "2024-02-26T09:15:24.490055Z"
    },
    "papermill": {
     "duration": 0.022421,
     "end_time": "2024-02-26T09:15:24.493190",
     "exception": false,
     "start_time": "2024-02-26T09:15:24.470769",
     "status": "completed"
    },
    "tags": []
   },
   "outputs": [],
   "source": [
    "#step_1.b.hint()"
   ]
  },
  {
   "cell_type": "markdown",
   "id": "bbbb1417",
   "metadata": {
    "papermill": {
     "duration": 0.013524,
     "end_time": "2024-02-26T09:15:24.520742",
     "exception": false,
     "start_time": "2024-02-26T09:15:24.507218",
     "status": "completed"
    },
    "tags": []
   },
   "source": [
    "To compare different approaches to dealing with missing values, you'll use the same `score_dataset()` function from the tutorial.  This function reports the [mean absolute error](https://en.wikipedia.org/wiki/Mean_absolute_error) (MAE) from a random forest model."
   ]
  },
  {
   "cell_type": "code",
   "execution_count": 9,
   "id": "8f56f9b1",
   "metadata": {
    "execution": {
     "iopub.execute_input": "2024-02-26T09:15:24.551026Z",
     "iopub.status.busy": "2024-02-26T09:15:24.550538Z",
     "iopub.status.idle": "2024-02-26T09:15:24.979085Z",
     "shell.execute_reply": "2024-02-26T09:15:24.977255Z"
    },
    "papermill": {
     "duration": 0.447379,
     "end_time": "2024-02-26T09:15:24.982344",
     "exception": false,
     "start_time": "2024-02-26T09:15:24.534965",
     "status": "completed"
    },
    "tags": []
   },
   "outputs": [],
   "source": [
    "from sklearn.ensemble import RandomForestRegressor\n",
    "from sklearn.metrics import mean_absolute_error\n",
    "\n",
    "# Function for comparing different approaches\n",
    "def score_dataset(X_train, X_valid, y_train, y_valid):\n",
    "    model = RandomForestRegressor(n_estimators=100, random_state=0)\n",
    "    model.fit(X_train, y_train)\n",
    "    preds = model.predict(X_valid)\n",
    "    return mean_absolute_error(y_valid, preds)"
   ]
  },
  {
   "cell_type": "markdown",
   "id": "3f22e503",
   "metadata": {
    "papermill": {
     "duration": 0.014951,
     "end_time": "2024-02-26T09:15:25.012000",
     "exception": false,
     "start_time": "2024-02-26T09:15:24.997049",
     "status": "completed"
    },
    "tags": []
   },
   "source": [
    "# Step 2: Drop columns with missing values\n",
    "\n",
    "In this step, you'll preprocess the data in `X_train` and `X_valid` to remove columns with missing values.  Set the preprocessed DataFrames to `reduced_X_train` and `reduced_X_valid`, respectively.  "
   ]
  },
  {
   "cell_type": "code",
   "execution_count": 10,
   "id": "64ff5d2a",
   "metadata": {
    "execution": {
     "iopub.execute_input": "2024-02-26T09:15:25.044640Z",
     "iopub.status.busy": "2024-02-26T09:15:25.044166Z",
     "iopub.status.idle": "2024-02-26T09:15:25.051344Z",
     "shell.execute_reply": "2024-02-26T09:15:25.050007Z"
    },
    "papermill": {
     "duration": 0.026193,
     "end_time": "2024-02-26T09:15:25.053804",
     "exception": false,
     "start_time": "2024-02-26T09:15:25.027611",
     "status": "completed"
    },
    "tags": []
   },
   "outputs": [
    {
     "name": "stdout",
     "output_type": "stream",
     "text": [
      "['LotFrontage', 'MasVnrArea', 'GarageYrBlt']\n"
     ]
    }
   ],
   "source": [
    "missing_columns= missing_val_count_by_column[missing_val_count_by_column > 0].index.tolist()\n",
    "print(missing_columns)"
   ]
  },
  {
   "cell_type": "code",
   "execution_count": 11,
   "id": "75c9aaea",
   "metadata": {
    "execution": {
     "iopub.execute_input": "2024-02-26T09:15:25.085129Z",
     "iopub.status.busy": "2024-02-26T09:15:25.084605Z",
     "iopub.status.idle": "2024-02-26T09:15:25.111789Z",
     "shell.execute_reply": "2024-02-26T09:15:25.110490Z"
    },
    "papermill": {
     "duration": 0.046059,
     "end_time": "2024-02-26T09:15:25.114426",
     "exception": false,
     "start_time": "2024-02-26T09:15:25.068367",
     "status": "completed"
    },
    "tags": []
   },
   "outputs": [
    {
     "data": {
      "application/javascript": [
       "parent.postMessage({\"jupyterEvent\": \"custom.exercise_interaction\", \"data\": {\"outcomeType\": 1, \"valueTowardsCompletion\": 1.0, \"interactionType\": 1, \"questionType\": 2, \"questionId\": \"2_DropMissing\", \"learnToolsVersion\": \"0.3.4\", \"failureMessage\": \"\", \"exceptionClass\": \"\", \"trace\": \"\"}}, \"*\")"
      ],
      "text/plain": [
       "<IPython.core.display.Javascript object>"
      ]
     },
     "metadata": {},
     "output_type": "display_data"
    },
    {
     "data": {
      "text/markdown": [
       "<span style=\"color:#33cc33\">Correct</span>"
      ],
      "text/plain": [
       "Correct"
      ]
     },
     "metadata": {},
     "output_type": "display_data"
    }
   ],
   "source": [
    "# Fill in the line below: get names of columns with missing values\n",
    "missing_columns= missing_val_count_by_column[missing_val_count_by_column > 0].index.tolist()# Your code here\n",
    "\n",
    "# Fill in the lines below: drop columns in training and validation data\n",
    "reduced_X_train = X_train.drop(missing_columns,axis=1)\n",
    "reduced_X_valid = X_valid.drop(missing_columns,axis=1)\n",
    "\n",
    "# Check your answers\n",
    "step_2.check()"
   ]
  },
  {
   "cell_type": "code",
   "execution_count": 12,
   "id": "b90d547a",
   "metadata": {
    "execution": {
     "iopub.execute_input": "2024-02-26T09:15:25.147283Z",
     "iopub.status.busy": "2024-02-26T09:15:25.146815Z",
     "iopub.status.idle": "2024-02-26T09:15:25.151909Z",
     "shell.execute_reply": "2024-02-26T09:15:25.150743Z"
    },
    "papermill": {
     "duration": 0.024414,
     "end_time": "2024-02-26T09:15:25.154405",
     "exception": false,
     "start_time": "2024-02-26T09:15:25.129991",
     "status": "completed"
    },
    "tags": []
   },
   "outputs": [],
   "source": [
    "# Lines below will give you a hint or solution code\n",
    "#step_2.hint()\n",
    "#step_2.solution()"
   ]
  },
  {
   "cell_type": "markdown",
   "id": "97b9081d",
   "metadata": {
    "papermill": {
     "duration": 0.01387,
     "end_time": "2024-02-26T09:15:25.182819",
     "exception": false,
     "start_time": "2024-02-26T09:15:25.168949",
     "status": "completed"
    },
    "tags": []
   },
   "source": [
    "Run the next code cell without changes to obtain the MAE for this approach."
   ]
  },
  {
   "cell_type": "code",
   "execution_count": 13,
   "id": "e7e8a0d2",
   "metadata": {
    "execution": {
     "iopub.execute_input": "2024-02-26T09:15:25.214943Z",
     "iopub.status.busy": "2024-02-26T09:15:25.214458Z",
     "iopub.status.idle": "2024-02-26T09:15:26.592138Z",
     "shell.execute_reply": "2024-02-26T09:15:26.590241Z"
    },
    "papermill": {
     "duration": 1.398006,
     "end_time": "2024-02-26T09:15:26.595359",
     "exception": false,
     "start_time": "2024-02-26T09:15:25.197353",
     "status": "completed"
    },
    "tags": []
   },
   "outputs": [
    {
     "name": "stdout",
     "output_type": "stream",
     "text": [
      "MAE (Drop columns with missing values):\n",
      "17837.82570776256\n"
     ]
    }
   ],
   "source": [
    "print(\"MAE (Drop columns with missing values):\")\n",
    "print(score_dataset(reduced_X_train, reduced_X_valid, y_train, y_valid))"
   ]
  },
  {
   "cell_type": "markdown",
   "id": "ceefde47",
   "metadata": {
    "papermill": {
     "duration": 0.017425,
     "end_time": "2024-02-26T09:15:26.629061",
     "exception": false,
     "start_time": "2024-02-26T09:15:26.611636",
     "status": "completed"
    },
    "tags": []
   },
   "source": [
    "# Step 3: Imputation\n",
    "\n",
    "### Part A\n",
    "\n",
    "Use the next code cell to impute missing values with the mean value along each column.  Set the preprocessed DataFrames to `imputed_X_train` and `imputed_X_valid`.  Make sure that the column names match those in `X_train` and `X_valid`."
   ]
  },
  {
   "cell_type": "code",
   "execution_count": 14,
   "id": "5ead12e6",
   "metadata": {
    "execution": {
     "iopub.execute_input": "2024-02-26T09:15:26.662700Z",
     "iopub.status.busy": "2024-02-26T09:15:26.662162Z",
     "iopub.status.idle": "2024-02-26T09:15:26.704909Z",
     "shell.execute_reply": "2024-02-26T09:15:26.701721Z"
    },
    "papermill": {
     "duration": 0.06468,
     "end_time": "2024-02-26T09:15:26.709519",
     "exception": false,
     "start_time": "2024-02-26T09:15:26.644839",
     "status": "completed"
    },
    "tags": []
   },
   "outputs": [
    {
     "data": {
      "application/javascript": [
       "parent.postMessage({\"jupyterEvent\": \"custom.exercise_interaction\", \"data\": {\"outcomeType\": 1, \"valueTowardsCompletion\": 1.0, \"interactionType\": 1, \"questionType\": 2, \"questionId\": \"3.1_ImputeCode\", \"learnToolsVersion\": \"0.3.4\", \"failureMessage\": \"\", \"exceptionClass\": \"\", \"trace\": \"\"}}, \"*\")"
      ],
      "text/plain": [
       "<IPython.core.display.Javascript object>"
      ]
     },
     "metadata": {},
     "output_type": "display_data"
    },
    {
     "data": {
      "text/markdown": [
       "<span style=\"color:#33cc33\">Correct</span>"
      ],
      "text/plain": [
       "Correct"
      ]
     },
     "metadata": {},
     "output_type": "display_data"
    }
   ],
   "source": [
    "from sklearn.impute import SimpleImputer\n",
    "\n",
    "# Fill in the lines below: imputation\n",
    "my_imputer = SimpleImputer() # Your code here\n",
    "imputed_X_train = pd.DataFrame(my_imputer.fit_transform(X_train))\n",
    "imputed_X_valid = pd.DataFrame(my_imputer.transform(X_valid))\n",
    "\n",
    "# Fill in the lines below: imputation removed column names; put them back\n",
    "imputed_X_train.columns =X_train.columns\n",
    "imputed_X_valid.columns =X_valid.columns\n",
    "\n",
    "# Check your answers\n",
    "step_3.a.check()"
   ]
  },
  {
   "cell_type": "code",
   "execution_count": 15,
   "id": "1e1f3c4e",
   "metadata": {
    "execution": {
     "iopub.execute_input": "2024-02-26T09:15:26.752593Z",
     "iopub.status.busy": "2024-02-26T09:15:26.751635Z",
     "iopub.status.idle": "2024-02-26T09:15:26.759038Z",
     "shell.execute_reply": "2024-02-26T09:15:26.757846Z"
    },
    "papermill": {
     "duration": 0.033278,
     "end_time": "2024-02-26T09:15:26.762215",
     "exception": false,
     "start_time": "2024-02-26T09:15:26.728937",
     "status": "completed"
    },
    "tags": []
   },
   "outputs": [],
   "source": [
    "# Lines below will give you a hint or solution code\n",
    "#step_3.a.hint()\n",
    "#step_3.a.solution()"
   ]
  },
  {
   "cell_type": "markdown",
   "id": "bb107e28",
   "metadata": {
    "papermill": {
     "duration": 0.01865,
     "end_time": "2024-02-26T09:15:26.799761",
     "exception": false,
     "start_time": "2024-02-26T09:15:26.781111",
     "status": "completed"
    },
    "tags": []
   },
   "source": [
    "Run the next code cell without changes to obtain the MAE for this approach."
   ]
  },
  {
   "cell_type": "code",
   "execution_count": 16,
   "id": "3fc70469",
   "metadata": {
    "execution": {
     "iopub.execute_input": "2024-02-26T09:15:26.841264Z",
     "iopub.status.busy": "2024-02-26T09:15:26.840635Z",
     "iopub.status.idle": "2024-02-26T09:15:28.377171Z",
     "shell.execute_reply": "2024-02-26T09:15:28.375769Z"
    },
    "papermill": {
     "duration": 1.559199,
     "end_time": "2024-02-26T09:15:28.380280",
     "exception": false,
     "start_time": "2024-02-26T09:15:26.821081",
     "status": "completed"
    },
    "tags": []
   },
   "outputs": [
    {
     "name": "stdout",
     "output_type": "stream",
     "text": [
      "MAE (Imputation):\n",
      "18062.894611872147\n"
     ]
    }
   ],
   "source": [
    "print(\"MAE (Imputation):\")\n",
    "print(score_dataset(imputed_X_train, imputed_X_valid, y_train, y_valid))"
   ]
  },
  {
   "cell_type": "markdown",
   "id": "e4915464",
   "metadata": {
    "papermill": {
     "duration": 0.01677,
     "end_time": "2024-02-26T09:15:28.413348",
     "exception": false,
     "start_time": "2024-02-26T09:15:28.396578",
     "status": "completed"
    },
    "tags": []
   },
   "source": [
    "### Part B\n",
    "\n",
    "Compare the MAE from each approach.  Does anything surprise you about the results?  Why do you think one approach performed better than the other?"
   ]
  },
  {
   "cell_type": "code",
   "execution_count": 17,
   "id": "71acbfb4",
   "metadata": {
    "execution": {
     "iopub.execute_input": "2024-02-26T09:15:28.446886Z",
     "iopub.status.busy": "2024-02-26T09:15:28.446344Z",
     "iopub.status.idle": "2024-02-26T09:15:28.456525Z",
     "shell.execute_reply": "2024-02-26T09:15:28.455201Z"
    },
    "papermill": {
     "duration": 0.030147,
     "end_time": "2024-02-26T09:15:28.459278",
     "exception": false,
     "start_time": "2024-02-26T09:15:28.429131",
     "status": "completed"
    },
    "tags": []
   },
   "outputs": [
    {
     "data": {
      "application/javascript": [
       "parent.postMessage({\"jupyterEvent\": \"custom.exercise_interaction\", \"data\": {\"outcomeType\": 1, \"valueTowardsCompletion\": 1.0, \"interactionType\": 1, \"questionType\": 4, \"questionId\": \"3.2_ImputeThought\", \"learnToolsVersion\": \"0.3.4\", \"failureMessage\": \"\", \"exceptionClass\": \"\", \"trace\": \"\"}}, \"*\")"
      ],
      "text/plain": [
       "<IPython.core.display.Javascript object>"
      ]
     },
     "metadata": {},
     "output_type": "display_data"
    },
    {
     "data": {
      "text/markdown": [
       "<span style=\"color:#33cc33\">Correct:</span> \n",
       "\n",
       "Given that thre are so few missing values in the dataset, we'd expect imputation to perform better than dropping columns entirely.  However, we see that dropping columns performs slightly better!  While this can probably partially be attributed to noise in the dataset, another potential explanation is that the imputation method is not a great match to this dataset.  That is, maybe instead of filling in the mean value, it makes more sense to set every missing value to a value of 0, to fill in the most frequently encountered value, or to use some other method.  For instance, consider the `GarageYrBlt` column (which indicates the year that the garage was built).  It's likely that in some cases, a missing value could indicate a house that does not have a garage.  Does it make more sense to fill in the median value along each column in this case?  Or could we get better results by filling in the minimum value along each column?  It's not quite clear what's best in this case, but perhaps we can rule out some options immediately - for instance, setting missing values in this column to 0 is likely to yield horrible results!"
      ],
      "text/plain": [
       "Correct: \n",
       "\n",
       "Given that thre are so few missing values in the dataset, we'd expect imputation to perform better than dropping columns entirely.  However, we see that dropping columns performs slightly better!  While this can probably partially be attributed to noise in the dataset, another potential explanation is that the imputation method is not a great match to this dataset.  That is, maybe instead of filling in the mean value, it makes more sense to set every missing value to a value of 0, to fill in the most frequently encountered value, or to use some other method.  For instance, consider the `GarageYrBlt` column (which indicates the year that the garage was built).  It's likely that in some cases, a missing value could indicate a house that does not have a garage.  Does it make more sense to fill in the median value along each column in this case?  Or could we get better results by filling in the minimum value along each column?  It's not quite clear what's best in this case, but perhaps we can rule out some options immediately - for instance, setting missing values in this column to 0 is likely to yield horrible results!"
      ]
     },
     "metadata": {},
     "output_type": "display_data"
    }
   ],
   "source": [
    "# Check your answer (Run this code cell to receive credit!)\n",
    "step_3.b.check()"
   ]
  },
  {
   "cell_type": "code",
   "execution_count": 18,
   "id": "bd001392",
   "metadata": {
    "execution": {
     "iopub.execute_input": "2024-02-26T09:15:28.494869Z",
     "iopub.status.busy": "2024-02-26T09:15:28.494048Z",
     "iopub.status.idle": "2024-02-26T09:15:28.499194Z",
     "shell.execute_reply": "2024-02-26T09:15:28.498248Z"
    },
    "papermill": {
     "duration": 0.026146,
     "end_time": "2024-02-26T09:15:28.501589",
     "exception": false,
     "start_time": "2024-02-26T09:15:28.475443",
     "status": "completed"
    },
    "tags": []
   },
   "outputs": [],
   "source": [
    "#step_3.b.hint()"
   ]
  },
  {
   "cell_type": "markdown",
   "id": "2f8b3d07",
   "metadata": {
    "papermill": {
     "duration": 0.016835,
     "end_time": "2024-02-26T09:15:28.535089",
     "exception": false,
     "start_time": "2024-02-26T09:15:28.518254",
     "status": "completed"
    },
    "tags": []
   },
   "source": [
    "# Step 4: Generate test predictions\n",
    "\n",
    "In this final step, you'll use any approach of your choosing to deal with missing values.  Once you've preprocessed the training and validation features, you'll train and evaluate a random forest model.  Then, you'll preprocess the test data before generating predictions that can be submitted to the competition!\n",
    "\n",
    "### Part A\n",
    "\n",
    "Use the next code cell to preprocess the training and validation data.  Set the preprocessed DataFrames to `final_X_train` and `final_X_valid`.  **You can use any approach of your choosing here!**  in order for this step to be marked as correct, you need only ensure:\n",
    "- the preprocessed DataFrames have the same number of columns,\n",
    "- the preprocessed DataFrames have no missing values, \n",
    "- `final_X_train` and `y_train` have the same number of rows, and\n",
    "- `final_X_valid` and `y_valid` have the same number of rows."
   ]
  },
  {
   "cell_type": "code",
   "execution_count": 19,
   "id": "235e6e6e",
   "metadata": {
    "execution": {
     "iopub.execute_input": "2024-02-26T09:15:28.569997Z",
     "iopub.status.busy": "2024-02-26T09:15:28.569490Z",
     "iopub.status.idle": "2024-02-26T09:15:28.586312Z",
     "shell.execute_reply": "2024-02-26T09:15:28.585348Z"
    },
    "papermill": {
     "duration": 0.038066,
     "end_time": "2024-02-26T09:15:28.589625",
     "exception": false,
     "start_time": "2024-02-26T09:15:28.551559",
     "status": "completed"
    },
    "tags": []
   },
   "outputs": [
    {
     "data": {
      "application/javascript": [
       "parent.postMessage({\"jupyterEvent\": \"custom.exercise_interaction\", \"data\": {\"outcomeType\": 1, \"valueTowardsCompletion\": 1.0, \"interactionType\": 1, \"questionType\": 2, \"questionId\": \"4.1_PredsCodeA\", \"learnToolsVersion\": \"0.3.4\", \"failureMessage\": \"\", \"exceptionClass\": \"\", \"trace\": \"\"}}, \"*\")"
      ],
      "text/plain": [
       "<IPython.core.display.Javascript object>"
      ]
     },
     "metadata": {},
     "output_type": "display_data"
    },
    {
     "data": {
      "text/markdown": [
       "<span style=\"color:#33cc33\">Correct</span>"
      ],
      "text/plain": [
       "Correct"
      ]
     },
     "metadata": {},
     "output_type": "display_data"
    }
   ],
   "source": [
    "# Preprocessed training and validation features\n",
    "final_X_train = reduced_X_train\n",
    "final_X_valid = reduced_X_valid\n",
    "\n",
    "# Check your answers\n",
    "step_4.a.check()"
   ]
  },
  {
   "cell_type": "code",
   "execution_count": 20,
   "id": "ee06ef5f",
   "metadata": {
    "execution": {
     "iopub.execute_input": "2024-02-26T09:15:28.624544Z",
     "iopub.status.busy": "2024-02-26T09:15:28.624043Z",
     "iopub.status.idle": "2024-02-26T09:15:28.629420Z",
     "shell.execute_reply": "2024-02-26T09:15:28.628152Z"
    },
    "papermill": {
     "duration": 0.025902,
     "end_time": "2024-02-26T09:15:28.631919",
     "exception": false,
     "start_time": "2024-02-26T09:15:28.606017",
     "status": "completed"
    },
    "tags": []
   },
   "outputs": [],
   "source": [
    "# Lines below will give you a hint or solution code\n",
    "#step_4.a.hint()\n",
    "#step_4.a.solution()"
   ]
  },
  {
   "cell_type": "markdown",
   "id": "a7e0a4ea",
   "metadata": {
    "papermill": {
     "duration": 0.016729,
     "end_time": "2024-02-26T09:15:28.665477",
     "exception": false,
     "start_time": "2024-02-26T09:15:28.648748",
     "status": "completed"
    },
    "tags": []
   },
   "source": [
    "Run the next code cell to train and evaluate a random forest model.  (*Note that we don't use the `score_dataset()` function above, because we will soon use the trained model to generate test predictions!*)"
   ]
  },
  {
   "cell_type": "code",
   "execution_count": 21,
   "id": "77642a0a",
   "metadata": {
    "execution": {
     "iopub.execute_input": "2024-02-26T09:15:28.701602Z",
     "iopub.status.busy": "2024-02-26T09:15:28.701115Z",
     "iopub.status.idle": "2024-02-26T09:15:30.085105Z",
     "shell.execute_reply": "2024-02-26T09:15:30.083645Z"
    },
    "papermill": {
     "duration": 1.405265,
     "end_time": "2024-02-26T09:15:30.088057",
     "exception": false,
     "start_time": "2024-02-26T09:15:28.682792",
     "status": "completed"
    },
    "tags": []
   },
   "outputs": [
    {
     "name": "stdout",
     "output_type": "stream",
     "text": [
      "MAE (Your approach):\n",
      "17837.82570776256\n"
     ]
    }
   ],
   "source": [
    "# Define and fit model\n",
    "model = RandomForestRegressor(n_estimators=100, random_state=0)\n",
    "model.fit(final_X_train, y_train)\n",
    "\n",
    "# Get validation predictions and MAE\n",
    "preds_valid = model.predict(final_X_valid)\n",
    "print(\"MAE (Your approach):\")\n",
    "print(mean_absolute_error(y_valid, preds_valid))"
   ]
  },
  {
   "cell_type": "markdown",
   "id": "95ba933c",
   "metadata": {
    "papermill": {
     "duration": 0.112539,
     "end_time": "2024-02-26T09:15:30.217185",
     "exception": false,
     "start_time": "2024-02-26T09:15:30.104646",
     "status": "completed"
    },
    "tags": []
   },
   "source": [
    "### Part B\n",
    "\n",
    "Use the next code cell to preprocess your test data.  Make sure that you use a method that agrees with how you preprocessed the training and validation data, and set the preprocessed test features to `final_X_test`.\n",
    "\n",
    "Then, use the preprocessed test features and the trained model to generate test predictions in `preds_test`.\n",
    "\n",
    "In order for this step to be marked correct, you need only ensure:\n",
    "- the preprocessed test DataFrame has no missing values, and\n",
    "- `final_X_test` has the same number of rows as `X_test`."
   ]
  },
  {
   "cell_type": "code",
   "execution_count": 22,
   "id": "14673fe7",
   "metadata": {
    "execution": {
     "iopub.execute_input": "2024-02-26T09:15:30.255297Z",
     "iopub.status.busy": "2024-02-26T09:15:30.254164Z",
     "iopub.status.idle": "2024-02-26T09:15:30.319770Z",
     "shell.execute_reply": "2024-02-26T09:15:30.318772Z"
    },
    "papermill": {
     "duration": 0.087725,
     "end_time": "2024-02-26T09:15:30.322247",
     "exception": false,
     "start_time": "2024-02-26T09:15:30.234522",
     "status": "completed"
    },
    "tags": []
   },
   "outputs": [
    {
     "name": "stdout",
     "output_type": "stream",
     "text": [
      "LotFrontage    212\n",
      "MasVnrArea       6\n",
      "GarageYrBlt     58\n",
      "dtype: int64\n",
      "['LotFrontage', 'MasVnrArea', 'GarageYrBlt']\n",
      "(1459, 36)\n",
      "(1168, 36)\n",
      "(1459, 33)\n"
     ]
    },
    {
     "data": {
      "application/javascript": [
       "parent.postMessage({\"jupyterEvent\": \"custom.exercise_interaction\", \"data\": {\"outcomeType\": 1, \"valueTowardsCompletion\": 1.0, \"interactionType\": 1, \"questionType\": 2, \"questionId\": \"4.2_PredsCodeB\", \"learnToolsVersion\": \"0.3.4\", \"failureMessage\": \"\", \"exceptionClass\": \"\", \"trace\": \"\"}}, \"*\")"
      ],
      "text/plain": [
       "<IPython.core.display.Javascript object>"
      ]
     },
     "metadata": {},
     "output_type": "display_data"
    },
    {
     "data": {
      "text/markdown": [
       "<span style=\"color:#33cc33\">Correct</span>"
      ],
      "text/plain": [
       "Correct"
      ]
     },
     "metadata": {},
     "output_type": "display_data"
    }
   ],
   "source": [
    "# Fill in the line below: preprocess test data\n",
    "# Number of missing values in each column of training data\n",
    "missing_val_count_by_column = X_train.isnull().sum()\n",
    "print(missing_val_count_by_column[missing_val_count_by_column > 0])\n",
    "missing_columns_test=(missing_val_count_by_column[missing_val_count_by_column > 0]).index.tolist()\n",
    "print(missing_columns_test)\n",
    "final_X_test = X_test.drop(missing_columns_test,axis=1)\n",
    "final_X_test_columns=final_X_test.columns\n",
    "print(X_test.shape)\n",
    "print(X_train.shape)\n",
    "print(final_X_test.shape)\n",
    "final_X_test = pd.DataFrame(my_imputer.fit_transform(final_X_test))\n",
    "\n",
    "# Fill in the lines below: imputation removed column names; put them back\n",
    "final_X_test.columns =final_X_test_columns\n",
    "# Fill in the line below: get test predictions\n",
    "preds_test = model.predict(final_X_test)\n",
    "\n",
    "# Check your answers\n",
    "step_4.b.check()"
   ]
  },
  {
   "cell_type": "code",
   "execution_count": 23,
   "id": "83497251",
   "metadata": {
    "execution": {
     "iopub.execute_input": "2024-02-26T09:15:30.359472Z",
     "iopub.status.busy": "2024-02-26T09:15:30.358079Z",
     "iopub.status.idle": "2024-02-26T09:15:30.363986Z",
     "shell.execute_reply": "2024-02-26T09:15:30.362725Z"
    },
    "papermill": {
     "duration": 0.027412,
     "end_time": "2024-02-26T09:15:30.366797",
     "exception": false,
     "start_time": "2024-02-26T09:15:30.339385",
     "status": "completed"
    },
    "tags": []
   },
   "outputs": [],
   "source": [
    "# Lines below will give you a hint or solution code\n",
    "#step_4.b.hint()\n",
    "#step_4.b.solution()"
   ]
  },
  {
   "cell_type": "markdown",
   "id": "e7f7f2da",
   "metadata": {
    "papermill": {
     "duration": 0.016835,
     "end_time": "2024-02-26T09:15:30.400928",
     "exception": false,
     "start_time": "2024-02-26T09:15:30.384093",
     "status": "completed"
    },
    "tags": []
   },
   "source": [
    "Run the next code cell without changes to save your results to a CSV file that can be submitted directly to the competition."
   ]
  },
  {
   "cell_type": "code",
   "execution_count": 24,
   "id": "95055a70",
   "metadata": {
    "execution": {
     "iopub.execute_input": "2024-02-26T09:15:30.438564Z",
     "iopub.status.busy": "2024-02-26T09:15:30.437517Z",
     "iopub.status.idle": "2024-02-26T09:15:30.451270Z",
     "shell.execute_reply": "2024-02-26T09:15:30.450257Z"
    },
    "papermill": {
     "duration": 0.035889,
     "end_time": "2024-02-26T09:15:30.454174",
     "exception": false,
     "start_time": "2024-02-26T09:15:30.418285",
     "status": "completed"
    },
    "tags": []
   },
   "outputs": [],
   "source": [
    "# Save test predictions to file\n",
    "output = pd.DataFrame({'Id': X_test.index,\n",
    "                       'SalePrice': preds_test})\n",
    "output.to_csv('submission.csv', index=False)"
   ]
  },
  {
   "cell_type": "markdown",
   "id": "e864f421",
   "metadata": {
    "papermill": {
     "duration": 0.016527,
     "end_time": "2024-02-26T09:15:30.488343",
     "exception": false,
     "start_time": "2024-02-26T09:15:30.471816",
     "status": "completed"
    },
    "tags": []
   },
   "source": [
    "# Submit your results\n",
    "\n",
    "Once you have successfully completed Step 4, you're ready to submit your results to the leaderboard!  (_You also learned how to do this in the previous exercise.  If you need a reminder of how to do this, please use the instructions below._)  \n",
    "\n",
    "First, you'll need to join the competition if you haven't already.  So open a new window by clicking on [this link](https://www.kaggle.com/c/home-data-for-ml-course).  Then click on the **Join Competition** button.\n",
    "\n",
    "![join competition image](https://storage.googleapis.com/kaggle-media/learn/images/wLmFtH3.png)\n",
    "\n",
    "Next, follow the instructions below:\n",
    "1. Begin by clicking on the **Save Version** button in the top right corner of the window.  This will generate a pop-up window.  \n",
    "2. Ensure that the **Save and Run All** option is selected, and then click on the **Save** button.\n",
    "3. This generates a window in the bottom left corner of the notebook.  After it has finished running, click on the number to the right of the **Save Version** button.  This pulls up a list of versions on the right of the screen.  Click on the ellipsis **(...)** to the right of the most recent version, and select **Open in Viewer**.  This brings you into view mode of the same page. You will need to scroll down to get back to these instructions.\n",
    "4. Click on the **Data** tab near the top of the screen.  Then, click on the file you would like to submit, and click on the **Submit** button to submit your results to the leaderboard.\n",
    "\n",
    "You have now successfully submitted to the competition!\n",
    "\n",
    "If you want to keep working to improve your performance, select the **Edit** button in the top right of the screen. Then you can change your code and repeat the process. There's a lot of room to improve, and you will climb up the leaderboard as you work.\n",
    "\n",
    "\n",
    "# Keep going\n",
    "\n",
    "Move on to learn what **[categorical variables](https://www.kaggle.com/alexisbcook/categorical-variables)** are, along with how to incorporate them into your machine learning models.  Categorical variables are very common in real-world data, but you'll get an error if you try to plug them into your models without processing them first!"
   ]
  },
  {
   "cell_type": "markdown",
   "id": "4e1c6f29",
   "metadata": {
    "papermill": {
     "duration": 0.016324,
     "end_time": "2024-02-26T09:15:30.521438",
     "exception": false,
     "start_time": "2024-02-26T09:15:30.505114",
     "status": "completed"
    },
    "tags": []
   },
   "source": [
    "---\n",
    "\n",
    "\n",
    "\n",
    "\n",
    "*Have questions or comments? Visit the [course discussion forum](https://www.kaggle.com/learn/intermediate-machine-learning/discussion) to chat with other learners.*"
   ]
  }
 ],
 "metadata": {
  "kaggle": {
   "accelerator": "none",
   "dataSources": [
    {
     "databundleVersionId": 111096,
     "sourceId": 10211,
     "sourceType": "competition"
    }
   ],
   "isGpuEnabled": false,
   "isInternetEnabled": false,
   "language": "python",
   "sourceType": "notebook"
  },
  "kernelspec": {
   "display_name": "Python 3",
   "language": "python",
   "name": "python3"
  },
  "language_info": {
   "codemirror_mode": {
    "name": "ipython",
    "version": 3
   },
   "file_extension": ".py",
   "mimetype": "text/x-python",
   "name": "python",
   "nbconvert_exporter": "python",
   "pygments_lexer": "ipython3",
   "version": "3.10.13"
  },
  "papermill": {
   "default_parameters": {},
   "duration": 13.771975,
   "end_time": "2024-02-26T09:15:31.463480",
   "environment_variables": {},
   "exception": null,
   "input_path": "__notebook__.ipynb",
   "output_path": "__notebook__.ipynb",
   "parameters": {},
   "start_time": "2024-02-26T09:15:17.691505",
   "version": "2.5.0"
  }
 },
 "nbformat": 4,
 "nbformat_minor": 5
}
